{
 "cells": [
  {
   "cell_type": "markdown",
   "metadata": {},
   "source": [
    "### Data Analytics Student: Sarah Freeman"
   ]
  },
  {
   "cell_type": "markdown",
   "metadata": {},
   "source": [
    "This notebook file displays the final data analtyics project. The goal was to see what variable can be a good predictor for readmission rate."
   ]
  },
  {
   "cell_type": "code",
   "execution_count": 101,
   "metadata": {},
   "outputs": [],
   "source": [
    "# import libraries for the \n",
    "\n",
    "import numpy as np\n",
    "import pandas as pd\n",
    "import scipy.stats\n",
    "\n",
    "from numpy import mean\n",
    "from numpy import std\n",
    "from numpy.random import randn\n",
    "from numpy.random import seed\n",
    "from matplotlib import pyplot\n",
    "from sklearn.model_selection import train_test_split\n",
    "from sklearn.datasets import load_iris\n",
    "from sklearn.cluster import KMeans\n",
    "from sklearn.preprocessing import StandardScaler, normalize\n",
    "from sklearn.metrics import silhouette_score"
   ]
  },
  {
   "cell_type": "markdown",
   "metadata": {},
   "source": [
    "## <font color='Red'>Initial Data Setup</font> \n",
    "\n",
    "\n",
    "### Seting up packages"
   ]
  },
  {
   "cell_type": "code",
   "execution_count": 69,
   "metadata": {},
   "outputs": [],
   "source": [
    "#importing data\n",
    "#ETL process was performed prior\n",
    "\n",
    "df = pd.read_csv(\"https://raw.githubusercontent.com/Sarahjfreeman/DataAnalyticsPortfolio/DiabetesData/csv_diabetic_data_cleaned.csv\")"
   ]
  },
  {
   "cell_type": "markdown",
   "metadata": {},
   "source": [
    "### Loading the data"
   ]
  },
  {
   "cell_type": "code",
   "execution_count": 70,
   "metadata": {},
   "outputs": [],
   "source": [
    "#plotting\n",
    "import matplotlib.pyplot as plt\n",
    "import seaborn as sns\n",
    "\n",
    "\n",
    "#linear algebra\n",
    "import numpy as np\n",
    "\n",
    "#data processing\n",
    "import pandas as pd\n",
    "\n",
    "#splitting data\n",
    "from sklearn.model_selection import train_test_split\n",
    "\n",
    "#scaling\n",
    "from sklearn.preprocessing import StandardScaler\n",
    "\n",
    "#tuning\n",
    "from sklearn.model_selection import RandomizedSearchCV\n",
    "\n",
    "#model evaluation\n",
    "from sklearn import metrics"
   ]
  },
  {
   "cell_type": "markdown",
   "metadata": {},
   "source": [
    "### Data Characteristics"
   ]
  },
  {
   "cell_type": "code",
   "execution_count": 71,
   "metadata": {},
   "outputs": [
    {
     "data": {
      "text/html": [
       "<div>\n",
       "<style scoped>\n",
       "    .dataframe tbody tr th:only-of-type {\n",
       "        vertical-align: middle;\n",
       "    }\n",
       "\n",
       "    .dataframe tbody tr th {\n",
       "        vertical-align: top;\n",
       "    }\n",
       "\n",
       "    .dataframe thead th {\n",
       "        text-align: right;\n",
       "    }\n",
       "</style>\n",
       "<table border=\"1\" class=\"dataframe\">\n",
       "  <thead>\n",
       "    <tr style=\"text-align: right;\">\n",
       "      <th></th>\n",
       "      <th>ethnicity/race</th>\n",
       "      <th>sex</th>\n",
       "      <th>age</th>\n",
       "      <th>admission_type_id</th>\n",
       "      <th>discharge_disposition_id</th>\n",
       "      <th>admission_source_id</th>\n",
       "      <th>LOS</th>\n",
       "      <th>payer_code</th>\n",
       "      <th>medical_specialty</th>\n",
       "      <th>num_lab_procedures</th>\n",
       "      <th>...</th>\n",
       "      <th>number_outpatient</th>\n",
       "      <th>number_emergency</th>\n",
       "      <th>number_inpatient</th>\n",
       "      <th>number_diagnoses</th>\n",
       "      <th>max_glu_serum</th>\n",
       "      <th>metformin</th>\n",
       "      <th>insulin</th>\n",
       "      <th>diabetes_med</th>\n",
       "      <th>diabetes_med_change</th>\n",
       "      <th>readmitted</th>\n",
       "    </tr>\n",
       "  </thead>\n",
       "  <tbody>\n",
       "    <tr>\n",
       "      <th>0</th>\n",
       "      <td>African American</td>\n",
       "      <td>Male</td>\n",
       "      <td>[70-80)</td>\n",
       "      <td>6</td>\n",
       "      <td>25</td>\n",
       "      <td>1</td>\n",
       "      <td>4</td>\n",
       "      <td>0</td>\n",
       "      <td>Allergy and Immunology</td>\n",
       "      <td>11</td>\n",
       "      <td>...</td>\n",
       "      <td>0</td>\n",
       "      <td>0</td>\n",
       "      <td>0</td>\n",
       "      <td>5</td>\n",
       "      <td>None</td>\n",
       "      <td>No</td>\n",
       "      <td>No</td>\n",
       "      <td>Yes</td>\n",
       "      <td>Yes</td>\n",
       "      <td>&gt;30</td>\n",
       "    </tr>\n",
       "    <tr>\n",
       "      <th>1</th>\n",
       "      <td>African American</td>\n",
       "      <td>Female</td>\n",
       "      <td>[40-50)</td>\n",
       "      <td>3</td>\n",
       "      <td>1</td>\n",
       "      <td>2</td>\n",
       "      <td>1</td>\n",
       "      <td>0</td>\n",
       "      <td>Anesthesiology</td>\n",
       "      <td>37</td>\n",
       "      <td>...</td>\n",
       "      <td>0</td>\n",
       "      <td>0</td>\n",
       "      <td>0</td>\n",
       "      <td>8</td>\n",
       "      <td>None</td>\n",
       "      <td>No</td>\n",
       "      <td>Steady</td>\n",
       "      <td>Yes</td>\n",
       "      <td>Yes</td>\n",
       "      <td>No</td>\n",
       "    </tr>\n",
       "    <tr>\n",
       "      <th>2</th>\n",
       "      <td>African American</td>\n",
       "      <td>Female</td>\n",
       "      <td>[10-20)</td>\n",
       "      <td>2</td>\n",
       "      <td>1</td>\n",
       "      <td>4</td>\n",
       "      <td>4</td>\n",
       "      <td>0</td>\n",
       "      <td>Anesthesiology-Pediatric</td>\n",
       "      <td>61</td>\n",
       "      <td>...</td>\n",
       "      <td>0</td>\n",
       "      <td>0</td>\n",
       "      <td>1</td>\n",
       "      <td>3</td>\n",
       "      <td>None</td>\n",
       "      <td>No</td>\n",
       "      <td>Down</td>\n",
       "      <td>Yes</td>\n",
       "      <td>No</td>\n",
       "      <td>&gt;30</td>\n",
       "    </tr>\n",
       "    <tr>\n",
       "      <th>3</th>\n",
       "      <td>African American</td>\n",
       "      <td>Male</td>\n",
       "      <td>[10-20)</td>\n",
       "      <td>2</td>\n",
       "      <td>1</td>\n",
       "      <td>4</td>\n",
       "      <td>3</td>\n",
       "      <td>0</td>\n",
       "      <td>Anesthesiology-Pediatric</td>\n",
       "      <td>57</td>\n",
       "      <td>...</td>\n",
       "      <td>0</td>\n",
       "      <td>0</td>\n",
       "      <td>0</td>\n",
       "      <td>4</td>\n",
       "      <td>None</td>\n",
       "      <td>No</td>\n",
       "      <td>No</td>\n",
       "      <td>Yes</td>\n",
       "      <td>Yes</td>\n",
       "      <td>No</td>\n",
       "    </tr>\n",
       "    <tr>\n",
       "      <th>4</th>\n",
       "      <td>African American</td>\n",
       "      <td>Female</td>\n",
       "      <td>[10-20)</td>\n",
       "      <td>2</td>\n",
       "      <td>6</td>\n",
       "      <td>1</td>\n",
       "      <td>2</td>\n",
       "      <td>0</td>\n",
       "      <td>Anesthesiology-Pediatric</td>\n",
       "      <td>64</td>\n",
       "      <td>...</td>\n",
       "      <td>0</td>\n",
       "      <td>0</td>\n",
       "      <td>3</td>\n",
       "      <td>3</td>\n",
       "      <td>None</td>\n",
       "      <td>No</td>\n",
       "      <td>No</td>\n",
       "      <td>Yes</td>\n",
       "      <td>No</td>\n",
       "      <td>&gt;30</td>\n",
       "    </tr>\n",
       "  </tbody>\n",
       "</table>\n",
       "<p>5 rows × 22 columns</p>\n",
       "</div>"
      ],
      "text/plain": [
       "     ethnicity/race     sex      age  admission_type_id  \\\n",
       "0  African American    Male  [70-80)                  6   \n",
       "1  African American  Female  [40-50)                  3   \n",
       "2  African American  Female  [10-20)                  2   \n",
       "3  African American    Male  [10-20)                  2   \n",
       "4  African American  Female  [10-20)                  2   \n",
       "\n",
       "   discharge_disposition_id  admission_source_id  LOS payer_code  \\\n",
       "0                        25                    1    4          0   \n",
       "1                         1                    2    1          0   \n",
       "2                         1                    4    4          0   \n",
       "3                         1                    4    3          0   \n",
       "4                         6                    1    2          0   \n",
       "\n",
       "          medical_specialty  num_lab_procedures  ...  number_outpatient  \\\n",
       "0    Allergy and Immunology                  11  ...                  0   \n",
       "1            Anesthesiology                  37  ...                  0   \n",
       "2  Anesthesiology-Pediatric                  61  ...                  0   \n",
       "3  Anesthesiology-Pediatric                  57  ...                  0   \n",
       "4  Anesthesiology-Pediatric                  64  ...                  0   \n",
       "\n",
       "   number_emergency  number_inpatient  number_diagnoses  max_glu_serum  \\\n",
       "0                 0                 0                 5           None   \n",
       "1                 0                 0                 8           None   \n",
       "2                 0                 1                 3           None   \n",
       "3                 0                 0                 4           None   \n",
       "4                 0                 3                 3           None   \n",
       "\n",
       "   metformin insulin diabetes_med diabetes_med_change readmitted  \n",
       "0         No      No          Yes                 Yes        >30  \n",
       "1         No  Steady          Yes                 Yes         No  \n",
       "2         No    Down          Yes                  No        >30  \n",
       "3         No      No          Yes                 Yes         No  \n",
       "4         No      No          Yes                  No        >30  \n",
       "\n",
       "[5 rows x 22 columns]"
      ]
     },
     "execution_count": 71,
     "metadata": {},
     "output_type": "execute_result"
    }
   ],
   "source": [
    "#view our columns\n",
    "\n",
    "df.head()"
   ]
  },
  {
   "cell_type": "code",
   "execution_count": 72,
   "metadata": {},
   "outputs": [
    {
     "name": "stdout",
     "output_type": "stream",
     "text": [
      "<class 'pandas.core.frame.DataFrame'>\n",
      "RangeIndex: 101766 entries, 0 to 101765\n",
      "Data columns (total 22 columns):\n",
      " #   Column                    Non-Null Count   Dtype \n",
      "---  ------                    --------------   ----- \n",
      " 0   ethnicity/race            101766 non-null  object\n",
      " 1   sex                       101766 non-null  object\n",
      " 2   age                       101766 non-null  object\n",
      " 3   admission_type_id         101766 non-null  int64 \n",
      " 4   discharge_disposition_id  101766 non-null  int64 \n",
      " 5   admission_source_id       101766 non-null  int64 \n",
      " 6   LOS                       101766 non-null  int64 \n",
      " 7   payer_code                101766 non-null  object\n",
      " 8   medical_specialty         101766 non-null  object\n",
      " 9   num_lab_procedures        101766 non-null  int64 \n",
      " 10  num_procedures            101766 non-null  int64 \n",
      " 11  num_medications           101766 non-null  int64 \n",
      " 12  number_outpatient         101766 non-null  int64 \n",
      " 13  number_emergency          101766 non-null  int64 \n",
      " 14  number_inpatient          101766 non-null  int64 \n",
      " 15  number_diagnoses          101766 non-null  int64 \n",
      " 16  max_glu_serum             101766 non-null  object\n",
      " 17  metformin                 101766 non-null  object\n",
      " 18  insulin                   101766 non-null  object\n",
      " 19  diabetes_med              101766 non-null  object\n",
      " 20  diabetes_med_change       101766 non-null  object\n",
      " 21  readmitted                101766 non-null  object\n",
      "dtypes: int64(11), object(11)\n",
      "memory usage: 17.1+ MB\n"
     ]
    }
   ],
   "source": [
    "#lets take a look at the data types in the data\n",
    "\n",
    "df.info()"
   ]
  },
  {
   "cell_type": "markdown",
   "metadata": {},
   "source": [
    "## <font color='Red'>Data Cleansing</font> \n"
   ]
  },
  {
   "cell_type": "code",
   "execution_count": 73,
   "metadata": {},
   "outputs": [],
   "source": [
    "# delete not needed columns\n",
    "\n",
    "del df['payer_code']"
   ]
  },
  {
   "cell_type": "code",
   "execution_count": 74,
   "metadata": {},
   "outputs": [
    {
     "name": "stdout",
     "output_type": "stream",
     "text": [
      "<class 'pandas.core.frame.DataFrame'>\n",
      "RangeIndex: 101766 entries, 0 to 101765\n",
      "Data columns (total 21 columns):\n",
      " #   Column                    Non-Null Count   Dtype \n",
      "---  ------                    --------------   ----- \n",
      " 0   ethnicity/race            101766 non-null  object\n",
      " 1   sex                       101766 non-null  object\n",
      " 2   age                       101766 non-null  object\n",
      " 3   admission_type_id         101766 non-null  int64 \n",
      " 4   discharge_disposition_id  101766 non-null  int64 \n",
      " 5   admission_source_id       101766 non-null  int64 \n",
      " 6   LOS                       101766 non-null  int64 \n",
      " 7   medical_specialty         101766 non-null  object\n",
      " 8   num_lab_procedures        101766 non-null  int64 \n",
      " 9   num_procedures            101766 non-null  int64 \n",
      " 10  num_medications           101766 non-null  int64 \n",
      " 11  number_outpatient         101766 non-null  int64 \n",
      " 12  number_emergency          101766 non-null  int64 \n",
      " 13  number_inpatient          101766 non-null  int64 \n",
      " 14  number_diagnoses          101766 non-null  int64 \n",
      " 15  max_glu_serum             101766 non-null  object\n",
      " 16  metformin                 101766 non-null  object\n",
      " 17  insulin                   101766 non-null  object\n",
      " 18  diabetes_med              101766 non-null  object\n",
      " 19  diabetes_med_change       101766 non-null  object\n",
      " 20  readmitted                101766 non-null  object\n",
      "dtypes: int64(11), object(10)\n",
      "memory usage: 16.3+ MB\n"
     ]
    }
   ],
   "source": [
    "# check\n",
    "\n",
    "df.info()"
   ]
  },
  {
   "cell_type": "code",
   "execution_count": 75,
   "metadata": {},
   "outputs": [
    {
     "data": {
      "text/html": [
       "<div>\n",
       "<style scoped>\n",
       "    .dataframe tbody tr th:only-of-type {\n",
       "        vertical-align: middle;\n",
       "    }\n",
       "\n",
       "    .dataframe tbody tr th {\n",
       "        vertical-align: top;\n",
       "    }\n",
       "\n",
       "    .dataframe thead th {\n",
       "        text-align: right;\n",
       "    }\n",
       "</style>\n",
       "<table border=\"1\" class=\"dataframe\">\n",
       "  <thead>\n",
       "    <tr style=\"text-align: right;\">\n",
       "      <th></th>\n",
       "      <th>admission_type_id</th>\n",
       "      <th>discharge_disposition_id</th>\n",
       "      <th>admission_source_id</th>\n",
       "      <th>LOS</th>\n",
       "      <th>num_lab_procedures</th>\n",
       "      <th>num_procedures</th>\n",
       "      <th>num_medications</th>\n",
       "      <th>number_outpatient</th>\n",
       "      <th>number_emergency</th>\n",
       "      <th>number_inpatient</th>\n",
       "      <th>number_diagnoses</th>\n",
       "    </tr>\n",
       "  </thead>\n",
       "  <tbody>\n",
       "    <tr>\n",
       "      <th>count</th>\n",
       "      <td>101766.000000</td>\n",
       "      <td>101766.000000</td>\n",
       "      <td>101766.000000</td>\n",
       "      <td>101766.000000</td>\n",
       "      <td>101766.000000</td>\n",
       "      <td>101766.000000</td>\n",
       "      <td>101766.000000</td>\n",
       "      <td>101766.000000</td>\n",
       "      <td>101766.000000</td>\n",
       "      <td>101766.000000</td>\n",
       "      <td>101766.000000</td>\n",
       "    </tr>\n",
       "    <tr>\n",
       "      <th>mean</th>\n",
       "      <td>2.024006</td>\n",
       "      <td>3.715642</td>\n",
       "      <td>5.754437</td>\n",
       "      <td>4.395987</td>\n",
       "      <td>43.095641</td>\n",
       "      <td>1.339730</td>\n",
       "      <td>16.021844</td>\n",
       "      <td>0.369357</td>\n",
       "      <td>0.197836</td>\n",
       "      <td>0.635566</td>\n",
       "      <td>7.422607</td>\n",
       "    </tr>\n",
       "    <tr>\n",
       "      <th>std</th>\n",
       "      <td>1.445403</td>\n",
       "      <td>5.280166</td>\n",
       "      <td>4.064081</td>\n",
       "      <td>2.985108</td>\n",
       "      <td>19.674362</td>\n",
       "      <td>1.705807</td>\n",
       "      <td>8.127566</td>\n",
       "      <td>1.267265</td>\n",
       "      <td>0.930472</td>\n",
       "      <td>1.262863</td>\n",
       "      <td>1.933600</td>\n",
       "    </tr>\n",
       "    <tr>\n",
       "      <th>min</th>\n",
       "      <td>1.000000</td>\n",
       "      <td>1.000000</td>\n",
       "      <td>1.000000</td>\n",
       "      <td>1.000000</td>\n",
       "      <td>1.000000</td>\n",
       "      <td>0.000000</td>\n",
       "      <td>1.000000</td>\n",
       "      <td>0.000000</td>\n",
       "      <td>0.000000</td>\n",
       "      <td>0.000000</td>\n",
       "      <td>1.000000</td>\n",
       "    </tr>\n",
       "    <tr>\n",
       "      <th>25%</th>\n",
       "      <td>1.000000</td>\n",
       "      <td>1.000000</td>\n",
       "      <td>1.000000</td>\n",
       "      <td>2.000000</td>\n",
       "      <td>31.000000</td>\n",
       "      <td>0.000000</td>\n",
       "      <td>10.000000</td>\n",
       "      <td>0.000000</td>\n",
       "      <td>0.000000</td>\n",
       "      <td>0.000000</td>\n",
       "      <td>6.000000</td>\n",
       "    </tr>\n",
       "    <tr>\n",
       "      <th>50%</th>\n",
       "      <td>1.000000</td>\n",
       "      <td>1.000000</td>\n",
       "      <td>7.000000</td>\n",
       "      <td>4.000000</td>\n",
       "      <td>44.000000</td>\n",
       "      <td>1.000000</td>\n",
       "      <td>15.000000</td>\n",
       "      <td>0.000000</td>\n",
       "      <td>0.000000</td>\n",
       "      <td>0.000000</td>\n",
       "      <td>8.000000</td>\n",
       "    </tr>\n",
       "    <tr>\n",
       "      <th>75%</th>\n",
       "      <td>3.000000</td>\n",
       "      <td>4.000000</td>\n",
       "      <td>7.000000</td>\n",
       "      <td>6.000000</td>\n",
       "      <td>57.000000</td>\n",
       "      <td>2.000000</td>\n",
       "      <td>20.000000</td>\n",
       "      <td>0.000000</td>\n",
       "      <td>0.000000</td>\n",
       "      <td>1.000000</td>\n",
       "      <td>9.000000</td>\n",
       "    </tr>\n",
       "    <tr>\n",
       "      <th>max</th>\n",
       "      <td>8.000000</td>\n",
       "      <td>28.000000</td>\n",
       "      <td>25.000000</td>\n",
       "      <td>14.000000</td>\n",
       "      <td>132.000000</td>\n",
       "      <td>6.000000</td>\n",
       "      <td>81.000000</td>\n",
       "      <td>42.000000</td>\n",
       "      <td>76.000000</td>\n",
       "      <td>21.000000</td>\n",
       "      <td>16.000000</td>\n",
       "    </tr>\n",
       "  </tbody>\n",
       "</table>\n",
       "</div>"
      ],
      "text/plain": [
       "       admission_type_id  discharge_disposition_id  admission_source_id  \\\n",
       "count      101766.000000             101766.000000        101766.000000   \n",
       "mean            2.024006                  3.715642             5.754437   \n",
       "std             1.445403                  5.280166             4.064081   \n",
       "min             1.000000                  1.000000             1.000000   \n",
       "25%             1.000000                  1.000000             1.000000   \n",
       "50%             1.000000                  1.000000             7.000000   \n",
       "75%             3.000000                  4.000000             7.000000   \n",
       "max             8.000000                 28.000000            25.000000   \n",
       "\n",
       "                 LOS  num_lab_procedures  num_procedures  num_medications  \\\n",
       "count  101766.000000       101766.000000   101766.000000    101766.000000   \n",
       "mean        4.395987           43.095641        1.339730        16.021844   \n",
       "std         2.985108           19.674362        1.705807         8.127566   \n",
       "min         1.000000            1.000000        0.000000         1.000000   \n",
       "25%         2.000000           31.000000        0.000000        10.000000   \n",
       "50%         4.000000           44.000000        1.000000        15.000000   \n",
       "75%         6.000000           57.000000        2.000000        20.000000   \n",
       "max        14.000000          132.000000        6.000000        81.000000   \n",
       "\n",
       "       number_outpatient  number_emergency  number_inpatient  number_diagnoses  \n",
       "count      101766.000000     101766.000000     101766.000000     101766.000000  \n",
       "mean            0.369357          0.197836          0.635566          7.422607  \n",
       "std             1.267265          0.930472          1.262863          1.933600  \n",
       "min             0.000000          0.000000          0.000000          1.000000  \n",
       "25%             0.000000          0.000000          0.000000          6.000000  \n",
       "50%             0.000000          0.000000          0.000000          8.000000  \n",
       "75%             0.000000          0.000000          1.000000          9.000000  \n",
       "max            42.000000         76.000000         21.000000         16.000000  "
      ]
     },
     "execution_count": 75,
     "metadata": {},
     "output_type": "execute_result"
    }
   ],
   "source": [
    "#looking at the stats breakdown\n",
    "\n",
    "df.describe()"
   ]
  },
  {
   "cell_type": "code",
   "execution_count": 97,
   "metadata": {},
   "outputs": [],
   "source": [
    "#isolating columns and defining them as variables\n",
    "ethnicity=df.iloc[:,0]\n",
    "sex=df.iloc[:,1]\n",
    "age=df.iloc[:,2]\n",
    "admissions_type_id=df.iloc[:,3]\n",
    "discharge_disposition_id=df.iloc[:,4]\n",
    "admission_source_id=df.iloc[:,5]\n",
    "LOS=df.iloc[:,6]\n",
    "medical_speciality=df.iloc[:,7]\n",
    "num_lab_procedures =df.iloc[:,8]\n",
    "num_procedures=df.iloc[:,9]         \n",
    "num_medications=df.iloc[:,10]\n",
    "number_outpatient=df.iloc[:,11]\n",
    "number_emergency=df.iloc[:,12]\n",
    "number_inpatient=df.iloc[:,13]\n",
    "number_diagnoses=df.iloc[:,14]    \n",
    "max_glucose=df.iloc[:,15]\n",
    "metform=df.iloc[:,16]\n",
    "insulin=df.iloc[:,17]\n",
    "diabetes_med=df.iloc[:,18]\n",
    "diabetes_med_change=df.iloc[:,19]\n",
    "readmitted=df.iloc[:,20]"
   ]
  },
  {
   "cell_type": "code",
   "execution_count": 76,
   "metadata": {},
   "outputs": [],
   "source": [
    "#convert string\n",
    "\n",
    "#ethnicity/race\n",
    "df['ethnicity/race'] = df['ethnicity/race'].map({\n",
    "    'Caucasian':int(5),\n",
    "    'African American':int(4), \n",
    "    'Hispanic':int(3),\n",
    "    'Asian':int(2), \n",
    "    'Other':int(1), \n",
    "    'Null':int(0)})\n",
    "\n",
    "#sex\n",
    "df['sex'] = df['sex'].map({\n",
    "    'Male' :int(2),\n",
    "    'Female' :int(1),\n",
    "    'Unknown/Invalid' :int(0),})\n",
    "\n",
    "#age\n",
    "df['age'] = df['age'].map({\n",
    "    '[90-100)':int(9),\n",
    "    '[80-90)':int(8), \n",
    "    '[70-80)':int(7),\n",
    "    '[60-70)':int(6), \n",
    "    '[50-60)':int(5),\n",
    "    '[40-50)':int(4),\n",
    "    '[30-40)':int(3), \n",
    "    '[20-30)':int(2),\n",
    "    '[10-20)':int(1), \n",
    "    '[0-10)':int(0)})\n",
    "\n",
    "#medical_specialty\n",
    "df['medical_specialty'] = df['medical_specialty'].map({\n",
    "'Allergy and Immunology':int(71),\n",
    "'Anesthesiology':int(70),\n",
    "'Anesthesiology-Pediatric':int(69),\n",
    "'Cardiology':int(68),\n",
    "'Cardiology-Pediatric':int(67),\n",
    "'DCPTEAM':int(66),\n",
    "'Dentistry':int(65),\n",
    "'Dermatology':int(64),\n",
    "'Emergency/Trauma':int(63),\n",
    "'Endocrinology':int(62),\n",
    "'Endocrinology-Metabolism':int(61),\n",
    "'Family/General Practice':int(60),\n",
    "'Gastroenterology':int(59),\n",
    "'Gynecology':int(58),\n",
    "'Hematology':int(57),\n",
    "'Hematology/Oncology':int(56),\n",
    "'Hospitalist':int(55),\n",
    "'Infectious Diseases':int(54),\n",
    "'Internal Medicine':int(53),\n",
    "'Nephrology':int(52),\n",
    "'Neurology':int(51),\n",
    "'Neurophysiology':int(50),\n",
    "'Obsterics & Gynecology-Gynecologic Onco':int(49),\n",
    "'Obstetrics':int(48),\n",
    "'Obstetrics and Gynecology':int(47),\n",
    "'Oncology':int(46),\n",
    "'Ophthalmology':int(45),\n",
    "'Orthopedics':int(44),\n",
    "'Orthopedics-Reconstructive':int(43),\n",
    "'Osteopath':int(42),\n",
    "'Otolaryngology':int(41),\n",
    "'Outreach Services':int(40),\n",
    "'Pathology':int(39),\n",
    "'Pediatrics':int(38),\n",
    "'Pediatrics-Allergy and Immunology':int(37),\n",
    "'Pediatrics-Critical Care':int(36),\n",
    "'Pediatrics-Emergency Medicine':int(35),\n",
    "'Pediatrics-Endocrinology':int(34),\n",
    "'Pediatrics-Hematology-Oncology':int(33),\n",
    "'Pediatrics-Infectious Diseases':int(32),\n",
    "'Pediatrics-Neurology':int(31),\n",
    "'Pediatrics-Pulmonology':int(30),\n",
    "'Perinatology':int(),\n",
    "'Physical Medicine and Rehabilitation':int(29),\n",
    "'Podiatry':int(28),\n",
    "'Proctology':int(27),\n",
    "'Psychiatry':int(26),\n",
    "'Psychiatry-Addictive':int(25),\n",
    "'Psychiatry-Child/Adolescent':int(24),\n",
    "'Psychsology':int(23),\n",
    "'Pulmonology':int(22),\n",
    "'Radiologist':int(21),\n",
    "'Radiology':int(20),\n",
    "'Resident':int(19),\n",
    "'Rheumatology':int(18),\n",
    "'Speeches':int(17),\n",
    "'Sports Medicine':int(16),\n",
    "'Surgeon':int(15),\n",
    "'Surgery-Cardiovascular':int(14),\n",
    "'Surgery-Cardiovascular/Thoracic':int(13),\n",
    "'Surgery-Colon & Rectal':int(12),\n",
    "'Surgery-General':int(11),\n",
    "'Surgery-Maxillofacial':int(10),\n",
    "'Surgery-Neuro':int(9),\n",
    "'Surgery-Pediatric':int(8),\n",
    "'Surgery-Plastic':int(7),\n",
    "'Surgery-Plastic within Head and Neck':int(6),\n",
    "'Surgery-Thoracic':int(5),\n",
    "'Surgery-Vascular':int(4),\n",
    "'Surgical Specialty':int(3),\n",
    "'Urology':int(2),\n",
    "'PhysicianNotFound':int(1),\n",
    "'Null' :int(0),})\n",
    "\n",
    "#max_glu_serum\n",
    "df['max_glu_serum'] = df['max_glu_serum'].map({\n",
    "    '>300' :int(3),\n",
    "    '>200' :int(2),\n",
    "    'Norm':int(1),\n",
    "    'None' :int(0),})\n",
    "\n",
    "#diabetes med\n",
    "df['diabetes_med'] = df['diabetes_med'].map({\n",
    "    'Yes':int(1), \n",
    "    'No':int(0)})\n",
    "\n",
    "#diabetes med change\n",
    "df['diabetes_med_change'] = df['diabetes_med_change'].map({\n",
    "    'Yes':int(1), \n",
    "    'No':int(0)})\n",
    "\n",
    "# metformin\n",
    "df['metformin'] = df['metformin'].map({\n",
    "    'Down' :int(3),\n",
    "    'Up' :int(2),\n",
    "    'Steaddy' :int(1),\n",
    "    'Up' :int(0),})\n",
    "\n",
    "# insulin\n",
    "df['insulin'] = df['insulin'].map({\n",
    "    'Down' :int(3),\n",
    "    'Up' :int(2),\n",
    "    'Steaddy' :int(1),\n",
    "    'Up' :int(0),})\n",
    "\n",
    "#readmitted\n",
    "df['readmitted'] = df['readmitted'].map({\n",
    "    '<30' :int(2),\n",
    "    '>30' :int(1),\n",
    "    'No' :int(0),})"
   ]
  },
  {
   "cell_type": "code",
   "execution_count": 77,
   "metadata": {},
   "outputs": [
    {
     "name": "stdout",
     "output_type": "stream",
     "text": [
      "<class 'pandas.core.frame.DataFrame'>\n",
      "RangeIndex: 101766 entries, 0 to 101765\n",
      "Data columns (total 21 columns):\n",
      " #   Column                    Non-Null Count   Dtype  \n",
      "---  ------                    --------------   -----  \n",
      " 0   ethnicity/race            101766 non-null  int64  \n",
      " 1   sex                       101763 non-null  float64\n",
      " 2   age                       101766 non-null  int64  \n",
      " 3   admission_type_id         101766 non-null  int64  \n",
      " 4   discharge_disposition_id  101766 non-null  int64  \n",
      " 5   admission_source_id       101766 non-null  int64  \n",
      " 6   LOS                       101766 non-null  int64  \n",
      " 7   medical_specialty         101664 non-null  float64\n",
      " 8   num_lab_procedures        101766 non-null  int64  \n",
      " 9   num_procedures            101766 non-null  int64  \n",
      " 10  num_medications           101766 non-null  int64  \n",
      " 11  number_outpatient         101766 non-null  int64  \n",
      " 12  number_emergency          101766 non-null  int64  \n",
      " 13  number_inpatient          101766 non-null  int64  \n",
      " 14  number_diagnoses          101766 non-null  int64  \n",
      " 15  max_glu_serum             101766 non-null  int64  \n",
      " 16  metformin                 1642 non-null    float64\n",
      " 17  insulin                   23534 non-null   float64\n",
      " 18  diabetes_med              101766 non-null  int64  \n",
      " 19  diabetes_med_change       101766 non-null  int64  \n",
      " 20  readmitted                101766 non-null  int64  \n",
      "dtypes: float64(4), int64(17)\n",
      "memory usage: 16.3 MB\n"
     ]
    }
   ],
   "source": [
    "# confirm the changes made\n",
    "\n",
    "df.info()"
   ]
  },
  {
   "cell_type": "code",
   "execution_count": 78,
   "metadata": {},
   "outputs": [],
   "source": [
    "# convert medical_specialty to int64\n",
    "\n",
    "df['medical_specialty'] = df['medical_specialty'].fillna(0).astype(np.int64)\n",
    "df['sex'] = df['sex'].fillna(0).astype(np.int64)\n",
    "df['metformin'] = df['metformin'].fillna(0).astype(np.int64)\n",
    "df['insulin'] = df['insulin'].fillna(0).astype(np.int64)"
   ]
  },
  {
   "cell_type": "code",
   "execution_count": 79,
   "metadata": {},
   "outputs": [
    {
     "name": "stdout",
     "output_type": "stream",
     "text": [
      "<class 'pandas.core.frame.DataFrame'>\n",
      "RangeIndex: 101766 entries, 0 to 101765\n",
      "Data columns (total 21 columns):\n",
      " #   Column                    Non-Null Count   Dtype\n",
      "---  ------                    --------------   -----\n",
      " 0   ethnicity/race            101766 non-null  int64\n",
      " 1   sex                       101766 non-null  int64\n",
      " 2   age                       101766 non-null  int64\n",
      " 3   admission_type_id         101766 non-null  int64\n",
      " 4   discharge_disposition_id  101766 non-null  int64\n",
      " 5   admission_source_id       101766 non-null  int64\n",
      " 6   LOS                       101766 non-null  int64\n",
      " 7   medical_specialty         101766 non-null  int64\n",
      " 8   num_lab_procedures        101766 non-null  int64\n",
      " 9   num_procedures            101766 non-null  int64\n",
      " 10  num_medications           101766 non-null  int64\n",
      " 11  number_outpatient         101766 non-null  int64\n",
      " 12  number_emergency          101766 non-null  int64\n",
      " 13  number_inpatient          101766 non-null  int64\n",
      " 14  number_diagnoses          101766 non-null  int64\n",
      " 15  max_glu_serum             101766 non-null  int64\n",
      " 16  metformin                 101766 non-null  int64\n",
      " 17  insulin                   101766 non-null  int64\n",
      " 18  diabetes_med              101766 non-null  int64\n",
      " 19  diabetes_med_change       101766 non-null  int64\n",
      " 20  readmitted                101766 non-null  int64\n",
      "dtypes: int64(21)\n",
      "memory usage: 16.3 MB\n"
     ]
    }
   ],
   "source": [
    "# confirm medical_specialty change\n",
    "\n",
    "df.info()"
   ]
  },
  {
   "cell_type": "code",
   "execution_count": 80,
   "metadata": {},
   "outputs": [
    {
     "data": {
      "text/html": [
       "<div>\n",
       "<style scoped>\n",
       "    .dataframe tbody tr th:only-of-type {\n",
       "        vertical-align: middle;\n",
       "    }\n",
       "\n",
       "    .dataframe tbody tr th {\n",
       "        vertical-align: top;\n",
       "    }\n",
       "\n",
       "    .dataframe thead th {\n",
       "        text-align: right;\n",
       "    }\n",
       "</style>\n",
       "<table border=\"1\" class=\"dataframe\">\n",
       "  <thead>\n",
       "    <tr style=\"text-align: right;\">\n",
       "      <th></th>\n",
       "      <th>ethnicity/race</th>\n",
       "      <th>sex</th>\n",
       "      <th>age</th>\n",
       "      <th>admission_type_id</th>\n",
       "      <th>discharge_disposition_id</th>\n",
       "      <th>admission_source_id</th>\n",
       "      <th>LOS</th>\n",
       "      <th>medical_specialty</th>\n",
       "      <th>num_lab_procedures</th>\n",
       "      <th>num_procedures</th>\n",
       "      <th>...</th>\n",
       "      <th>number_outpatient</th>\n",
       "      <th>number_emergency</th>\n",
       "      <th>number_inpatient</th>\n",
       "      <th>number_diagnoses</th>\n",
       "      <th>max_glu_serum</th>\n",
       "      <th>metformin</th>\n",
       "      <th>insulin</th>\n",
       "      <th>diabetes_med</th>\n",
       "      <th>diabetes_med_change</th>\n",
       "      <th>readmitted</th>\n",
       "    </tr>\n",
       "  </thead>\n",
       "  <tbody>\n",
       "    <tr>\n",
       "      <th>0</th>\n",
       "      <td>4</td>\n",
       "      <td>2</td>\n",
       "      <td>7</td>\n",
       "      <td>6</td>\n",
       "      <td>25</td>\n",
       "      <td>1</td>\n",
       "      <td>4</td>\n",
       "      <td>71</td>\n",
       "      <td>11</td>\n",
       "      <td>1</td>\n",
       "      <td>...</td>\n",
       "      <td>0</td>\n",
       "      <td>0</td>\n",
       "      <td>0</td>\n",
       "      <td>5</td>\n",
       "      <td>0</td>\n",
       "      <td>0</td>\n",
       "      <td>0</td>\n",
       "      <td>1</td>\n",
       "      <td>1</td>\n",
       "      <td>1</td>\n",
       "    </tr>\n",
       "    <tr>\n",
       "      <th>1</th>\n",
       "      <td>4</td>\n",
       "      <td>1</td>\n",
       "      <td>4</td>\n",
       "      <td>3</td>\n",
       "      <td>1</td>\n",
       "      <td>2</td>\n",
       "      <td>1</td>\n",
       "      <td>70</td>\n",
       "      <td>37</td>\n",
       "      <td>1</td>\n",
       "      <td>...</td>\n",
       "      <td>0</td>\n",
       "      <td>0</td>\n",
       "      <td>0</td>\n",
       "      <td>8</td>\n",
       "      <td>0</td>\n",
       "      <td>0</td>\n",
       "      <td>0</td>\n",
       "      <td>1</td>\n",
       "      <td>1</td>\n",
       "      <td>0</td>\n",
       "    </tr>\n",
       "    <tr>\n",
       "      <th>2</th>\n",
       "      <td>4</td>\n",
       "      <td>1</td>\n",
       "      <td>1</td>\n",
       "      <td>2</td>\n",
       "      <td>1</td>\n",
       "      <td>4</td>\n",
       "      <td>4</td>\n",
       "      <td>69</td>\n",
       "      <td>61</td>\n",
       "      <td>0</td>\n",
       "      <td>...</td>\n",
       "      <td>0</td>\n",
       "      <td>0</td>\n",
       "      <td>1</td>\n",
       "      <td>3</td>\n",
       "      <td>0</td>\n",
       "      <td>0</td>\n",
       "      <td>3</td>\n",
       "      <td>1</td>\n",
       "      <td>0</td>\n",
       "      <td>1</td>\n",
       "    </tr>\n",
       "    <tr>\n",
       "      <th>3</th>\n",
       "      <td>4</td>\n",
       "      <td>2</td>\n",
       "      <td>1</td>\n",
       "      <td>2</td>\n",
       "      <td>1</td>\n",
       "      <td>4</td>\n",
       "      <td>3</td>\n",
       "      <td>69</td>\n",
       "      <td>57</td>\n",
       "      <td>0</td>\n",
       "      <td>...</td>\n",
       "      <td>0</td>\n",
       "      <td>0</td>\n",
       "      <td>0</td>\n",
       "      <td>4</td>\n",
       "      <td>0</td>\n",
       "      <td>0</td>\n",
       "      <td>0</td>\n",
       "      <td>1</td>\n",
       "      <td>1</td>\n",
       "      <td>0</td>\n",
       "    </tr>\n",
       "    <tr>\n",
       "      <th>4</th>\n",
       "      <td>4</td>\n",
       "      <td>1</td>\n",
       "      <td>1</td>\n",
       "      <td>2</td>\n",
       "      <td>6</td>\n",
       "      <td>1</td>\n",
       "      <td>2</td>\n",
       "      <td>69</td>\n",
       "      <td>64</td>\n",
       "      <td>0</td>\n",
       "      <td>...</td>\n",
       "      <td>0</td>\n",
       "      <td>0</td>\n",
       "      <td>3</td>\n",
       "      <td>3</td>\n",
       "      <td>0</td>\n",
       "      <td>0</td>\n",
       "      <td>0</td>\n",
       "      <td>1</td>\n",
       "      <td>0</td>\n",
       "      <td>1</td>\n",
       "    </tr>\n",
       "  </tbody>\n",
       "</table>\n",
       "<p>5 rows × 21 columns</p>\n",
       "</div>"
      ],
      "text/plain": [
       "   ethnicity/race  sex  age  admission_type_id  discharge_disposition_id  \\\n",
       "0               4    2    7                  6                        25   \n",
       "1               4    1    4                  3                         1   \n",
       "2               4    1    1                  2                         1   \n",
       "3               4    2    1                  2                         1   \n",
       "4               4    1    1                  2                         6   \n",
       "\n",
       "   admission_source_id  LOS  medical_specialty  num_lab_procedures  \\\n",
       "0                    1    4                 71                  11   \n",
       "1                    2    1                 70                  37   \n",
       "2                    4    4                 69                  61   \n",
       "3                    4    3                 69                  57   \n",
       "4                    1    2                 69                  64   \n",
       "\n",
       "   num_procedures  ...  number_outpatient  number_emergency  number_inpatient  \\\n",
       "0               1  ...                  0                 0                 0   \n",
       "1               1  ...                  0                 0                 0   \n",
       "2               0  ...                  0                 0                 1   \n",
       "3               0  ...                  0                 0                 0   \n",
       "4               0  ...                  0                 0                 3   \n",
       "\n",
       "   number_diagnoses  max_glu_serum  metformin  insulin  diabetes_med  \\\n",
       "0                 5              0          0        0             1   \n",
       "1                 8              0          0        0             1   \n",
       "2                 3              0          0        3             1   \n",
       "3                 4              0          0        0             1   \n",
       "4                 3              0          0        0             1   \n",
       "\n",
       "   diabetes_med_change  readmitted  \n",
       "0                    1           1  \n",
       "1                    1           0  \n",
       "2                    0           1  \n",
       "3                    1           0  \n",
       "4                    0           1  \n",
       "\n",
       "[5 rows x 21 columns]"
      ]
     },
     "execution_count": 80,
     "metadata": {},
     "output_type": "execute_result"
    }
   ],
   "source": [
    "df.head()"
   ]
  },
  {
   "cell_type": "code",
   "execution_count": 81,
   "metadata": {},
   "outputs": [],
   "source": [
    "# there are some null values, lets convert those to 0\n",
    "\n",
    "df=df.replace(to_replace='Null',value=0)"
   ]
  },
  {
   "cell_type": "code",
   "execution_count": 98,
   "metadata": {},
   "outputs": [
    {
     "data": {
      "text/html": [
       "<div>\n",
       "<style scoped>\n",
       "    .dataframe tbody tr th:only-of-type {\n",
       "        vertical-align: middle;\n",
       "    }\n",
       "\n",
       "    .dataframe tbody tr th {\n",
       "        vertical-align: top;\n",
       "    }\n",
       "\n",
       "    .dataframe thead th {\n",
       "        text-align: right;\n",
       "    }\n",
       "</style>\n",
       "<table border=\"1\" class=\"dataframe\">\n",
       "  <thead>\n",
       "    <tr style=\"text-align: right;\">\n",
       "      <th></th>\n",
       "      <th>ethnicity/race</th>\n",
       "      <th>sex</th>\n",
       "      <th>age</th>\n",
       "      <th>admission_type_id</th>\n",
       "      <th>discharge_disposition_id</th>\n",
       "      <th>admission_source_id</th>\n",
       "      <th>LOS</th>\n",
       "      <th>medical_specialty</th>\n",
       "      <th>num_lab_procedures</th>\n",
       "      <th>num_procedures</th>\n",
       "      <th>...</th>\n",
       "      <th>number_outpatient</th>\n",
       "      <th>number_emergency</th>\n",
       "      <th>number_inpatient</th>\n",
       "      <th>number_diagnoses</th>\n",
       "      <th>max_glu_serum</th>\n",
       "      <th>metformin</th>\n",
       "      <th>insulin</th>\n",
       "      <th>diabetes_med</th>\n",
       "      <th>diabetes_med_change</th>\n",
       "      <th>readmitted</th>\n",
       "    </tr>\n",
       "  </thead>\n",
       "  <tbody>\n",
       "    <tr>\n",
       "      <th>0</th>\n",
       "      <td>4</td>\n",
       "      <td>2</td>\n",
       "      <td>7</td>\n",
       "      <td>6</td>\n",
       "      <td>25</td>\n",
       "      <td>1</td>\n",
       "      <td>4</td>\n",
       "      <td>71</td>\n",
       "      <td>11</td>\n",
       "      <td>1</td>\n",
       "      <td>...</td>\n",
       "      <td>0</td>\n",
       "      <td>0</td>\n",
       "      <td>0</td>\n",
       "      <td>5</td>\n",
       "      <td>0</td>\n",
       "      <td>0</td>\n",
       "      <td>0</td>\n",
       "      <td>1</td>\n",
       "      <td>1</td>\n",
       "      <td>1</td>\n",
       "    </tr>\n",
       "    <tr>\n",
       "      <th>1</th>\n",
       "      <td>4</td>\n",
       "      <td>1</td>\n",
       "      <td>4</td>\n",
       "      <td>3</td>\n",
       "      <td>1</td>\n",
       "      <td>2</td>\n",
       "      <td>1</td>\n",
       "      <td>70</td>\n",
       "      <td>37</td>\n",
       "      <td>1</td>\n",
       "      <td>...</td>\n",
       "      <td>0</td>\n",
       "      <td>0</td>\n",
       "      <td>0</td>\n",
       "      <td>8</td>\n",
       "      <td>0</td>\n",
       "      <td>0</td>\n",
       "      <td>0</td>\n",
       "      <td>1</td>\n",
       "      <td>1</td>\n",
       "      <td>0</td>\n",
       "    </tr>\n",
       "    <tr>\n",
       "      <th>2</th>\n",
       "      <td>4</td>\n",
       "      <td>1</td>\n",
       "      <td>1</td>\n",
       "      <td>2</td>\n",
       "      <td>1</td>\n",
       "      <td>4</td>\n",
       "      <td>4</td>\n",
       "      <td>69</td>\n",
       "      <td>61</td>\n",
       "      <td>0</td>\n",
       "      <td>...</td>\n",
       "      <td>0</td>\n",
       "      <td>0</td>\n",
       "      <td>1</td>\n",
       "      <td>3</td>\n",
       "      <td>0</td>\n",
       "      <td>0</td>\n",
       "      <td>3</td>\n",
       "      <td>1</td>\n",
       "      <td>0</td>\n",
       "      <td>1</td>\n",
       "    </tr>\n",
       "    <tr>\n",
       "      <th>3</th>\n",
       "      <td>4</td>\n",
       "      <td>2</td>\n",
       "      <td>1</td>\n",
       "      <td>2</td>\n",
       "      <td>1</td>\n",
       "      <td>4</td>\n",
       "      <td>3</td>\n",
       "      <td>69</td>\n",
       "      <td>57</td>\n",
       "      <td>0</td>\n",
       "      <td>...</td>\n",
       "      <td>0</td>\n",
       "      <td>0</td>\n",
       "      <td>0</td>\n",
       "      <td>4</td>\n",
       "      <td>0</td>\n",
       "      <td>0</td>\n",
       "      <td>0</td>\n",
       "      <td>1</td>\n",
       "      <td>1</td>\n",
       "      <td>0</td>\n",
       "    </tr>\n",
       "    <tr>\n",
       "      <th>4</th>\n",
       "      <td>4</td>\n",
       "      <td>1</td>\n",
       "      <td>1</td>\n",
       "      <td>2</td>\n",
       "      <td>6</td>\n",
       "      <td>1</td>\n",
       "      <td>2</td>\n",
       "      <td>69</td>\n",
       "      <td>64</td>\n",
       "      <td>0</td>\n",
       "      <td>...</td>\n",
       "      <td>0</td>\n",
       "      <td>0</td>\n",
       "      <td>3</td>\n",
       "      <td>3</td>\n",
       "      <td>0</td>\n",
       "      <td>0</td>\n",
       "      <td>0</td>\n",
       "      <td>1</td>\n",
       "      <td>0</td>\n",
       "      <td>1</td>\n",
       "    </tr>\n",
       "  </tbody>\n",
       "</table>\n",
       "<p>5 rows × 21 columns</p>\n",
       "</div>"
      ],
      "text/plain": [
       "   ethnicity/race  sex  age  admission_type_id  discharge_disposition_id  \\\n",
       "0               4    2    7                  6                        25   \n",
       "1               4    1    4                  3                         1   \n",
       "2               4    1    1                  2                         1   \n",
       "3               4    2    1                  2                         1   \n",
       "4               4    1    1                  2                         6   \n",
       "\n",
       "   admission_source_id  LOS  medical_specialty  num_lab_procedures  \\\n",
       "0                    1    4                 71                  11   \n",
       "1                    2    1                 70                  37   \n",
       "2                    4    4                 69                  61   \n",
       "3                    4    3                 69                  57   \n",
       "4                    1    2                 69                  64   \n",
       "\n",
       "   num_procedures  ...  number_outpatient  number_emergency  number_inpatient  \\\n",
       "0               1  ...                  0                 0                 0   \n",
       "1               1  ...                  0                 0                 0   \n",
       "2               0  ...                  0                 0                 1   \n",
       "3               0  ...                  0                 0                 0   \n",
       "4               0  ...                  0                 0                 3   \n",
       "\n",
       "   number_diagnoses  max_glu_serum  metformin  insulin  diabetes_med  \\\n",
       "0                 5              0          0        0             1   \n",
       "1                 8              0          0        0             1   \n",
       "2                 3              0          0        3             1   \n",
       "3                 4              0          0        0             1   \n",
       "4                 3              0          0        0             1   \n",
       "\n",
       "   diabetes_med_change  readmitted  \n",
       "0                    1           1  \n",
       "1                    1           0  \n",
       "2                    0           1  \n",
       "3                    1           0  \n",
       "4                    0           1  \n",
       "\n",
       "[5 rows x 21 columns]"
      ]
     },
     "execution_count": 98,
     "metadata": {},
     "output_type": "execute_result"
    }
   ],
   "source": [
    "# confirm \n",
    "\n",
    "df.head()"
   ]
  },
  {
   "cell_type": "markdown",
   "metadata": {},
   "source": [
    "## <font color='Red'>Intial Analysis</font> \n",
    "\n",
    "### Summary Statistics\n"
   ]
  },
  {
   "cell_type": "code",
   "execution_count": 128,
   "metadata": {},
   "outputs": [],
   "source": [
    "# Calculate summary statistics\n",
    "summary = df.describe()"
   ]
  },
  {
   "cell_type": "code",
   "execution_count": 129,
   "metadata": {},
   "outputs": [],
   "source": [
    "# Transpose statistics to get similar format as R summary() function\n",
    "\n",
    "summary = summary.transpose()"
   ]
  },
  {
   "cell_type": "code",
   "execution_count": 133,
   "metadata": {},
   "outputs": [
    {
     "data": {
      "text/html": [
       "<div>\n",
       "<style scoped>\n",
       "    .dataframe tbody tr th:only-of-type {\n",
       "        vertical-align: middle;\n",
       "    }\n",
       "\n",
       "    .dataframe tbody tr th {\n",
       "        vertical-align: top;\n",
       "    }\n",
       "\n",
       "    .dataframe thead th {\n",
       "        text-align: right;\n",
       "    }\n",
       "</style>\n",
       "<table border=\"1\" class=\"dataframe\">\n",
       "  <thead>\n",
       "    <tr style=\"text-align: right;\">\n",
       "      <th></th>\n",
       "      <th>count</th>\n",
       "      <th>mean</th>\n",
       "      <th>std</th>\n",
       "      <th>min</th>\n",
       "      <th>25%</th>\n",
       "      <th>50%</th>\n",
       "      <th>75%</th>\n",
       "      <th>max</th>\n",
       "    </tr>\n",
       "  </thead>\n",
       "  <tbody>\n",
       "    <tr>\n",
       "      <th>ethnicity/race</th>\n",
       "      <td>101766.0</td>\n",
       "      <td>4.581432</td>\n",
       "      <td>0.972368</td>\n",
       "      <td>0.0</td>\n",
       "      <td>4.0</td>\n",
       "      <td>5.0</td>\n",
       "      <td>5.0</td>\n",
       "      <td>5.0</td>\n",
       "    </tr>\n",
       "    <tr>\n",
       "      <th>sex</th>\n",
       "      <td>101766.0</td>\n",
       "      <td>1.462355</td>\n",
       "      <td>0.498642</td>\n",
       "      <td>0.0</td>\n",
       "      <td>1.0</td>\n",
       "      <td>1.0</td>\n",
       "      <td>2.0</td>\n",
       "      <td>2.0</td>\n",
       "    </tr>\n",
       "    <tr>\n",
       "      <th>age</th>\n",
       "      <td>101766.0</td>\n",
       "      <td>6.096702</td>\n",
       "      <td>1.594084</td>\n",
       "      <td>0.0</td>\n",
       "      <td>5.0</td>\n",
       "      <td>6.0</td>\n",
       "      <td>7.0</td>\n",
       "      <td>9.0</td>\n",
       "    </tr>\n",
       "    <tr>\n",
       "      <th>admission_type_id</th>\n",
       "      <td>101766.0</td>\n",
       "      <td>2.024006</td>\n",
       "      <td>1.445403</td>\n",
       "      <td>1.0</td>\n",
       "      <td>1.0</td>\n",
       "      <td>1.0</td>\n",
       "      <td>3.0</td>\n",
       "      <td>8.0</td>\n",
       "    </tr>\n",
       "    <tr>\n",
       "      <th>discharge_disposition_id</th>\n",
       "      <td>101766.0</td>\n",
       "      <td>3.715642</td>\n",
       "      <td>5.280166</td>\n",
       "      <td>1.0</td>\n",
       "      <td>1.0</td>\n",
       "      <td>1.0</td>\n",
       "      <td>4.0</td>\n",
       "      <td>28.0</td>\n",
       "    </tr>\n",
       "    <tr>\n",
       "      <th>admission_source_id</th>\n",
       "      <td>101766.0</td>\n",
       "      <td>5.754437</td>\n",
       "      <td>4.064081</td>\n",
       "      <td>1.0</td>\n",
       "      <td>1.0</td>\n",
       "      <td>7.0</td>\n",
       "      <td>7.0</td>\n",
       "      <td>25.0</td>\n",
       "    </tr>\n",
       "    <tr>\n",
       "      <th>LOS</th>\n",
       "      <td>101766.0</td>\n",
       "      <td>4.395987</td>\n",
       "      <td>2.985108</td>\n",
       "      <td>1.0</td>\n",
       "      <td>2.0</td>\n",
       "      <td>4.0</td>\n",
       "      <td>6.0</td>\n",
       "      <td>14.0</td>\n",
       "    </tr>\n",
       "    <tr>\n",
       "      <th>medical_specialty</th>\n",
       "      <td>101766.0</td>\n",
       "      <td>25.105458</td>\n",
       "      <td>27.767079</td>\n",
       "      <td>0.0</td>\n",
       "      <td>0.0</td>\n",
       "      <td>4.0</td>\n",
       "      <td>53.0</td>\n",
       "      <td>71.0</td>\n",
       "    </tr>\n",
       "    <tr>\n",
       "      <th>num_lab_procedures</th>\n",
       "      <td>101766.0</td>\n",
       "      <td>43.095641</td>\n",
       "      <td>19.674362</td>\n",
       "      <td>1.0</td>\n",
       "      <td>31.0</td>\n",
       "      <td>44.0</td>\n",
       "      <td>57.0</td>\n",
       "      <td>132.0</td>\n",
       "    </tr>\n",
       "    <tr>\n",
       "      <th>num_procedures</th>\n",
       "      <td>101766.0</td>\n",
       "      <td>1.339730</td>\n",
       "      <td>1.705807</td>\n",
       "      <td>0.0</td>\n",
       "      <td>0.0</td>\n",
       "      <td>1.0</td>\n",
       "      <td>2.0</td>\n",
       "      <td>6.0</td>\n",
       "    </tr>\n",
       "    <tr>\n",
       "      <th>num_medications</th>\n",
       "      <td>101766.0</td>\n",
       "      <td>16.021844</td>\n",
       "      <td>8.127566</td>\n",
       "      <td>1.0</td>\n",
       "      <td>10.0</td>\n",
       "      <td>15.0</td>\n",
       "      <td>20.0</td>\n",
       "      <td>81.0</td>\n",
       "    </tr>\n",
       "    <tr>\n",
       "      <th>number_outpatient</th>\n",
       "      <td>101766.0</td>\n",
       "      <td>0.369357</td>\n",
       "      <td>1.267265</td>\n",
       "      <td>0.0</td>\n",
       "      <td>0.0</td>\n",
       "      <td>0.0</td>\n",
       "      <td>0.0</td>\n",
       "      <td>42.0</td>\n",
       "    </tr>\n",
       "    <tr>\n",
       "      <th>number_emergency</th>\n",
       "      <td>101766.0</td>\n",
       "      <td>0.197836</td>\n",
       "      <td>0.930472</td>\n",
       "      <td>0.0</td>\n",
       "      <td>0.0</td>\n",
       "      <td>0.0</td>\n",
       "      <td>0.0</td>\n",
       "      <td>76.0</td>\n",
       "    </tr>\n",
       "    <tr>\n",
       "      <th>number_inpatient</th>\n",
       "      <td>101766.0</td>\n",
       "      <td>0.635566</td>\n",
       "      <td>1.262863</td>\n",
       "      <td>0.0</td>\n",
       "      <td>0.0</td>\n",
       "      <td>0.0</td>\n",
       "      <td>1.0</td>\n",
       "      <td>21.0</td>\n",
       "    </tr>\n",
       "    <tr>\n",
       "      <th>number_diagnoses</th>\n",
       "      <td>101766.0</td>\n",
       "      <td>7.422607</td>\n",
       "      <td>1.933600</td>\n",
       "      <td>1.0</td>\n",
       "      <td>6.0</td>\n",
       "      <td>8.0</td>\n",
       "      <td>9.0</td>\n",
       "      <td>16.0</td>\n",
       "    </tr>\n",
       "    <tr>\n",
       "      <th>max_glu_serum</th>\n",
       "      <td>101766.0</td>\n",
       "      <td>0.091966</td>\n",
       "      <td>0.432688</td>\n",
       "      <td>0.0</td>\n",
       "      <td>0.0</td>\n",
       "      <td>0.0</td>\n",
       "      <td>0.0</td>\n",
       "      <td>3.0</td>\n",
       "    </tr>\n",
       "    <tr>\n",
       "      <th>metformin</th>\n",
       "      <td>101766.0</td>\n",
       "      <td>0.016951</td>\n",
       "      <td>0.224867</td>\n",
       "      <td>0.0</td>\n",
       "      <td>0.0</td>\n",
       "      <td>0.0</td>\n",
       "      <td>0.0</td>\n",
       "      <td>3.0</td>\n",
       "    </tr>\n",
       "    <tr>\n",
       "      <th>insulin</th>\n",
       "      <td>101766.0</td>\n",
       "      <td>0.360179</td>\n",
       "      <td>0.975099</td>\n",
       "      <td>0.0</td>\n",
       "      <td>0.0</td>\n",
       "      <td>0.0</td>\n",
       "      <td>0.0</td>\n",
       "      <td>3.0</td>\n",
       "    </tr>\n",
       "    <tr>\n",
       "      <th>diabetes_med</th>\n",
       "      <td>101766.0</td>\n",
       "      <td>0.770031</td>\n",
       "      <td>0.420815</td>\n",
       "      <td>0.0</td>\n",
       "      <td>1.0</td>\n",
       "      <td>1.0</td>\n",
       "      <td>1.0</td>\n",
       "      <td>1.0</td>\n",
       "    </tr>\n",
       "    <tr>\n",
       "      <th>diabetes_med_change</th>\n",
       "      <td>101766.0</td>\n",
       "      <td>0.461952</td>\n",
       "      <td>0.498553</td>\n",
       "      <td>0.0</td>\n",
       "      <td>0.0</td>\n",
       "      <td>0.0</td>\n",
       "      <td>1.0</td>\n",
       "      <td>1.0</td>\n",
       "    </tr>\n",
       "    <tr>\n",
       "      <th>readmitted</th>\n",
       "      <td>101766.0</td>\n",
       "      <td>0.572480</td>\n",
       "      <td>0.684068</td>\n",
       "      <td>0.0</td>\n",
       "      <td>0.0</td>\n",
       "      <td>0.0</td>\n",
       "      <td>1.0</td>\n",
       "      <td>2.0</td>\n",
       "    </tr>\n",
       "  </tbody>\n",
       "</table>\n",
       "</div>"
      ],
      "text/plain": [
       "                             count       mean        std  min   25%   50%  \\\n",
       "ethnicity/race            101766.0   4.581432   0.972368  0.0   4.0   5.0   \n",
       "sex                       101766.0   1.462355   0.498642  0.0   1.0   1.0   \n",
       "age                       101766.0   6.096702   1.594084  0.0   5.0   6.0   \n",
       "admission_type_id         101766.0   2.024006   1.445403  1.0   1.0   1.0   \n",
       "discharge_disposition_id  101766.0   3.715642   5.280166  1.0   1.0   1.0   \n",
       "admission_source_id       101766.0   5.754437   4.064081  1.0   1.0   7.0   \n",
       "LOS                       101766.0   4.395987   2.985108  1.0   2.0   4.0   \n",
       "medical_specialty         101766.0  25.105458  27.767079  0.0   0.0   4.0   \n",
       "num_lab_procedures        101766.0  43.095641  19.674362  1.0  31.0  44.0   \n",
       "num_procedures            101766.0   1.339730   1.705807  0.0   0.0   1.0   \n",
       "num_medications           101766.0  16.021844   8.127566  1.0  10.0  15.0   \n",
       "number_outpatient         101766.0   0.369357   1.267265  0.0   0.0   0.0   \n",
       "number_emergency          101766.0   0.197836   0.930472  0.0   0.0   0.0   \n",
       "number_inpatient          101766.0   0.635566   1.262863  0.0   0.0   0.0   \n",
       "number_diagnoses          101766.0   7.422607   1.933600  1.0   6.0   8.0   \n",
       "max_glu_serum             101766.0   0.091966   0.432688  0.0   0.0   0.0   \n",
       "metformin                 101766.0   0.016951   0.224867  0.0   0.0   0.0   \n",
       "insulin                   101766.0   0.360179   0.975099  0.0   0.0   0.0   \n",
       "diabetes_med              101766.0   0.770031   0.420815  0.0   1.0   1.0   \n",
       "diabetes_med_change       101766.0   0.461952   0.498553  0.0   0.0   0.0   \n",
       "readmitted                101766.0   0.572480   0.684068  0.0   0.0   0.0   \n",
       "\n",
       "                           75%    max  \n",
       "ethnicity/race             5.0    5.0  \n",
       "sex                        2.0    2.0  \n",
       "age                        7.0    9.0  \n",
       "admission_type_id          3.0    8.0  \n",
       "discharge_disposition_id   4.0   28.0  \n",
       "admission_source_id        7.0   25.0  \n",
       "LOS                        6.0   14.0  \n",
       "medical_specialty         53.0   71.0  \n",
       "num_lab_procedures        57.0  132.0  \n",
       "num_procedures             2.0    6.0  \n",
       "num_medications           20.0   81.0  \n",
       "number_outpatient          0.0   42.0  \n",
       "number_emergency           0.0   76.0  \n",
       "number_inpatient           1.0   21.0  \n",
       "number_diagnoses           9.0   16.0  \n",
       "max_glu_serum              0.0    3.0  \n",
       "metformin                  0.0    3.0  \n",
       "insulin                    0.0    3.0  \n",
       "diabetes_med               1.0    1.0  \n",
       "diabetes_med_change        1.0    1.0  \n",
       "readmitted                 1.0    2.0  "
      ]
     },
     "execution_count": 133,
     "metadata": {},
     "output_type": "execute_result"
    }
   ],
   "source": [
    "# Visualize summary statistics in console\n",
    "\n",
    "summary.head(30)"
   ]
  },
  {
   "cell_type": "markdown",
   "metadata": {},
   "source": [
    "\n"
   ]
  },
  {
   "cell_type": "markdown",
   "metadata": {},
   "source": [
    "### T-Test Setup"
   ]
  },
  {
   "cell_type": "code",
   "execution_count": null,
   "metadata": {},
   "outputs": [],
   "source": [
    "number_meds=df.iloc[:,12]\n",
    "race_eth=df.iloc[:,0]\n",
    "age=df.iloc[:,2]\n",
    "LOS=df.iloc[:,7]\n",
    "readmissions=df.iloc[:,22]\n",
    "discharge_disposition=df.iloc[:,4]"
   ]
  },
  {
   "cell_type": "code",
   "execution_count": null,
   "metadata": {},
   "outputs": [],
   "source": [
    "#race/ethnicity\n",
    "race_eth2=race_eth.replace({\n",
    "    \"African American\":int(1),\n",
    "    \"Asian\":int(2),\n",
    "    \"Caucasian\":int(3),\n",
    "    \"Hispanic\":int(4),\n",
    "    \"Null\":int(5),\n",
    "    \"Other\":int(6),\n",
    "})"
   ]
  },
  {
   "cell_type": "markdown",
   "metadata": {},
   "source": [
    "T-tests help determine whether there is a significant difference between the groups or if the groups are similar. Through this we can interpret if the two columns are correleated. The null hypothesis in the case of this dataset is that there is no difference or correlation between the two groups. For this dataset the p-value came out to zero for all of the value comparisons, so we reject the null hypothesis, concluding that there is significant differences and no correlation for each of the variables."
   ]
  },
  {
   "cell_type": "markdown",
   "metadata": {},
   "source": [
    "### Variable 1: Number of Medications"
   ]
  },
  {
   "cell_type": "markdown",
   "metadata": {},
   "source": [
    "#### As compared to ethnicity/race"
   ]
  },
  {
   "cell_type": "code",
   "execution_count": null,
   "metadata": {},
   "outputs": [],
   "source": [
    "stats.ttest_ind(number_meds,race_eth2)"
   ]
  },
  {
   "cell_type": "markdown",
   "metadata": {},
   "source": [
    "```Ttest_indResult(statistic=518.2632769123827, pvalue=0.0)```"
   ]
  },
  {
   "cell_type": "markdown",
   "metadata": {},
   "source": [
    "#### As compared to age"
   ]
  },
  {
   "cell_type": "code",
   "execution_count": null,
   "metadata": {},
   "outputs": [],
   "source": [
    "stats.ttest_ind(number_meds,age2)"
   ]
  },
  {
   "cell_type": "markdown",
   "metadata": {},
   "source": [
    "```Ttest_indResult(statistic=343.7631978806828, pvalue=0.0)```"
   ]
  },
  {
   "cell_type": "markdown",
   "metadata": {},
   "source": [
    "### Variable 2: Length of Stay"
   ]
  },
  {
   "cell_type": "markdown",
   "metadata": {},
   "source": [
    "#### As compared to ethnicity/race"
   ]
  },
  {
   "cell_type": "code",
   "execution_count": null,
   "metadata": {},
   "outputs": [],
   "source": [
    "stats.ttest_ind(LOS,race_eth2)"
   ]
  },
  {
   "cell_type": "markdown",
   "metadata": {},
   "source": [
    "```Ttest_indResult(statistic=169.91304837415873, pvalue=0.0)```"
   ]
  },
  {
   "cell_type": "markdown",
   "metadata": {},
   "source": [
    "#### As compared to age"
   ]
  },
  {
   "cell_type": "code",
   "execution_count": null,
   "metadata": {},
   "outputs": [],
   "source": [
    "stats.ttest_ind(LOS,age2)"
   ]
  },
  {
   "cell_type": "markdown",
   "metadata": {},
   "source": [
    "```Ttest_indResult(statistic=-254.58923700359645, pvalue=0.0)```"
   ]
  },
  {
   "cell_type": "markdown",
   "metadata": {},
   "source": [
    "### Variable 3: Readmission Rates"
   ]
  },
  {
   "cell_type": "markdown",
   "metadata": {},
   "source": [
    "#### As compared to ethnicity/race"
   ]
  },
  {
   "cell_type": "code",
   "execution_count": null,
   "metadata": {},
   "outputs": [],
   "source": [
    "stats.ttest_ind(readmissions2,race_eth2)"
   ]
  },
  {
   "cell_type": "markdown",
   "metadata": {},
   "source": [
    "```Ttest_indResult(statistic=-127.99217334121776, pvalue=0.0)```"
   ]
  },
  {
   "cell_type": "markdown",
   "metadata": {},
   "source": [
    "#### As compared to age"
   ]
  },
  {
   "cell_type": "code",
   "execution_count": null,
   "metadata": {},
   "outputs": [],
   "source": [
    "stats.ttest_ind(readmissions2,age2)"
   ]
  },
  {
   "cell_type": "markdown",
   "metadata": {},
   "source": [
    "```Ttest_indResult(statistic=-849.7343551871595, pvalue=0.0)```"
   ]
  },
  {
   "cell_type": "markdown",
   "metadata": {},
   "source": [
    "#### As compared to discharge disposition"
   ]
  },
  {
   "cell_type": "code",
   "execution_count": null,
   "metadata": {},
   "outputs": [],
   "source": [
    "stats.ttest_ind(readmissions2,discharge_disposition)"
   ]
  },
  {
   "cell_type": "markdown",
   "metadata": {},
   "source": [
    "```Ttest_indResult(statistic=-90.80574716134892, pvalue=0.0)```"
   ]
  },
  {
   "cell_type": "markdown",
   "metadata": {},
   "source": [
    "## <font color='Red'>Linear Regression</font> \n"
   ]
  },
  {
   "cell_type": "code",
   "execution_count": 111,
   "metadata": {},
   "outputs": [],
   "source": [
    "from sklearn import datasets, linear_model\n",
    "from sklearn.metrics import mean_squared_error, r2_score\n",
    "from sklearn.model_selection import train_test_split\n",
    "from sklearn.datasets import load_iris\n",
    "from sklearn.linear_model import LinearRegression"
   ]
  },
  {
   "cell_type": "markdown",
   "metadata": {},
   "source": [
    "### Variable 1: Number of Medications"
   ]
  },
  {
   "cell_type": "markdown",
   "metadata": {},
   "source": [
    "#### As compared to ethnicity/race"
   ]
  },
  {
   "cell_type": "code",
   "execution_count": null,
   "metadata": {},
   "outputs": [],
   "source": [
    "X=np.array([number_meds]).reshape((-1,1))\n",
    "y=np.array([race_eth2]).reshape((-1,1))"
   ]
  },
  {
   "cell_type": "code",
   "execution_count": null,
   "metadata": {},
   "outputs": [],
   "source": [
    "model = LinearRegression().fit(X, y)"
   ]
  },
  {
   "cell_type": "code",
   "execution_count": null,
   "metadata": {},
   "outputs": [],
   "source": [
    "r_sq = model.score(X, y)\n",
    "print('coefficient of determination:', r_sq)"
   ]
  },
  {
   "cell_type": "markdown",
   "metadata": {},
   "source": [
    "```coefficient of determination: 0.0005132333878352657```"
   ]
  },
  {
   "cell_type": "code",
   "execution_count": null,
   "metadata": {},
   "outputs": [],
   "source": [
    "print('intercept:', model.intercept_)"
   ]
  },
  {
   "cell_type": "markdown",
   "metadata": {},
   "source": [
    "```intercept: [2.68222071]```"
   ]
  },
  {
   "cell_type": "code",
   "execution_count": null,
   "metadata": {},
   "outputs": [],
   "source": [
    "print('slope:', model.coef_)"
   ]
  },
  {
   "cell_type": "markdown",
   "metadata": {},
   "source": [
    "```slope: [[0.00268579]]```"
   ]
  },
  {
   "cell_type": "code",
   "execution_count": null,
   "metadata": {},
   "outputs": [],
   "source": [
    "y_pred = model.predict(X)\n",
    "print('predicted response:', y_pred, sep='\\n')"
   ]
  },
  {
   "cell_type": "markdown",
   "metadata": {},
   "source": [
    "```predicted response:\n",
    "[[2.72787917]\n",
    " [2.74667972]\n",
    " [2.70639284]\n",
    " ...\n",
    " [2.70639284]\n",
    " [2.73056496]\n",
    " [2.69296388]]```"
   ]
  },
  {
   "cell_type": "markdown",
   "metadata": {},
   "source": [
    "#### As compared to age"
   ]
  },
  {
   "cell_type": "code",
   "execution_count": null,
   "metadata": {},
   "outputs": [],
   "source": [
    "y2=np.array([age2]).reshape((-1,1))"
   ]
  },
  {
   "cell_type": "code",
   "execution_count": null,
   "metadata": {},
   "outputs": [],
   "source": [
    "model2 = LinearRegression().fit(X, y2)"
   ]
  },
  {
   "cell_type": "code",
   "execution_count": null,
   "metadata": {},
   "outputs": [],
   "source": [
    "r_sq2 = model2.score(X, y2)\n",
    "print('coefficient of determination:', r_sq2)"
   ]
  },
  {
   "cell_type": "markdown",
   "metadata": {},
   "source": [
    "```coefficient of determination: 0.0017511737644607672\n",
    "```"
   ]
  },
  {
   "cell_type": "code",
   "execution_count": null,
   "metadata": {},
   "outputs": [],
   "source": [
    "print('intercept:', model2.intercept_)"
   ]
  },
  {
   "cell_type": "markdown",
   "metadata": {},
   "source": [
    "```intercept: [6.96520163]\n",
    "```"
   ]
  },
  {
   "cell_type": "code",
   "execution_count": null,
   "metadata": {},
   "outputs": [],
   "source": [
    "print('slope:', model2.coef_)"
   ]
  },
  {
   "cell_type": "markdown",
   "metadata": {},
   "source": [
    "```slope: [[0.00820758]]```"
   ]
  },
  {
   "cell_type": "code",
   "execution_count": null,
   "metadata": {},
   "outputs": [],
   "source": [
    "y2_pred = model2.predict(X)\n",
    "print('predicted response:', y2_pred, sep='\\n')"
   ]
  },
  {
   "cell_type": "markdown",
   "metadata": {},
   "source": [
    "```predicted response:\n",
    "[[7.10473053]\n",
    " [7.16218361]\n",
    " [7.03906987]\n",
    " ...\n",
    " [7.03906987]\n",
    " [7.11293811]\n",
    " [6.99803196]]```"
   ]
  },
  {
   "cell_type": "markdown",
   "metadata": {},
   "source": [
    "### Variable 2: Length of Stay"
   ]
  },
  {
   "cell_type": "markdown",
   "metadata": {},
   "source": [
    "#### As compared to race/ethnicty"
   ]
  },
  {
   "cell_type": "code",
   "execution_count": null,
   "metadata": {},
   "outputs": [],
   "source": [
    "X2=np.array([LOS]).reshape((-1,1))"
   ]
  },
  {
   "cell_type": "code",
   "execution_count": null,
   "metadata": {},
   "outputs": [],
   "source": [
    "model3 = LinearRegression().fit(X2, y)"
   ]
  },
  {
   "cell_type": "code",
   "execution_count": null,
   "metadata": {},
   "outputs": [],
   "source": [
    "r_sq3 = model3.score(X2, y)\n",
    "print('coefficient of determination:', r_sq3)"
   ]
  },
  {
   "cell_type": "markdown",
   "metadata": {},
   "source": [
    "```coefficient of determination: 0.0003876686533235141\n",
    "```"
   ]
  },
  {
   "cell_type": "code",
   "execution_count": null,
   "metadata": {},
   "outputs": [],
   "source": [
    "print('intercept:', model3.intercept_)"
   ]
  },
  {
   "cell_type": "markdown",
   "metadata": {},
   "source": [
    "```intercept: [2.75319049]\n",
    "   ```"
   ]
  },
  {
   "cell_type": "code",
   "execution_count": null,
   "metadata": {},
   "outputs": [],
   "source": [
    "print('slope:', model3.coef_)"
   ]
  },
  {
   "cell_type": "markdown",
   "metadata": {},
   "source": [
    "```slope: [[-0.00635544]]```"
   ]
  },
  {
   "cell_type": "code",
   "execution_count": null,
   "metadata": {},
   "outputs": [],
   "source": [
    "y3_pred = model3.predict(X2)\n",
    "print('predicted response:', y3_pred, sep='\\n')"
   ]
  },
  {
   "cell_type": "markdown",
   "metadata": {},
   "source": [
    "```\n",
    "y3_pred = model3.predict(X2)\n",
    "print('predicted response:', y3_pred, sep='\\n')\n",
    "predicted response:\n",
    "[[2.72776872]\n",
    " [2.74683505]\n",
    " [2.72776872]\n",
    " ...\n",
    " [2.72776872]\n",
    " [2.74683505]\n",
    " [2.73412416]]```"
   ]
  },
  {
   "cell_type": "markdown",
   "metadata": {},
   "source": [
    "#### As compared to age"
   ]
  },
  {
   "cell_type": "code",
   "execution_count": null,
   "metadata": {},
   "outputs": [],
   "source": [
    "model4 = LinearRegression().fit(X2, y2)"
   ]
  },
  {
   "cell_type": "code",
   "execution_count": null,
   "metadata": {},
   "outputs": [],
   "source": [
    "r_sq4 = model4.score(X2, y2)\n",
    "print('coefficient of determination:', r_sq4)"
   ]
  },
  {
   "cell_type": "markdown",
   "metadata": {},
   "source": [
    "```coefficient of determination: 0.011559457021110608\n",
    "```"
   ]
  },
  {
   "cell_type": "code",
   "execution_count": null,
   "metadata": {},
   "outputs": [],
   "source": [
    "print('intercept:', model4.intercept_)"
   ]
  },
  {
   "cell_type": "markdown",
   "metadata": {},
   "source": [
    "```intercept: [6.84430986]\n",
    "```"
   ]
  },
  {
   "cell_type": "code",
   "execution_count": null,
   "metadata": {},
   "outputs": [],
   "source": [
    "print('slope:', model4.coef_)"
   ]
  },
  {
   "cell_type": "markdown",
   "metadata": {},
   "source": [
    "```slope: [[0.05741427]]\n",
    "```"
   ]
  },
  {
   "cell_type": "code",
   "execution_count": null,
   "metadata": {},
   "outputs": [],
   "source": [
    "y4_pred = model4.predict(X2)\n",
    "print('predicted response:', y4_pred, sep='\\n')"
   ]
  },
  {
   "cell_type": "markdown",
   "metadata": {},
   "source": [
    "```predicted response:\n",
    "[[7.07396694]\n",
    " [6.90172413]\n",
    " [7.07396694]\n",
    " ...\n",
    " [7.07396694]\n",
    " [6.90172413]\n",
    " [7.01655267]]```"
   ]
  },
  {
   "cell_type": "markdown",
   "metadata": {},
   "source": [
    "### Variable 3: Readmissions"
   ]
  },
  {
   "cell_type": "markdown",
   "metadata": {},
   "source": [
    "#### As compared to race/ethnicty"
   ]
  },
  {
   "cell_type": "code",
   "execution_count": null,
   "metadata": {},
   "outputs": [],
   "source": [
    "X3=np.array([readmissions2]).reshape((-1,1))"
   ]
  },
  {
   "cell_type": "code",
   "execution_count": null,
   "metadata": {},
   "outputs": [],
   "source": [
    "model5 = LinearRegression().fit(X3, y)"
   ]
  },
  {
   "cell_type": "code",
   "execution_count": null,
   "metadata": {},
   "outputs": [],
   "source": [
    "r_sq5 = model5.score(X3, y)\n",
    "print('coefficient of determination:', r_sq5)"
   ]
  },
  {
   "cell_type": "markdown",
   "metadata": {},
   "source": [
    "```coefficient of determination: 0.00025507829840432095\n",
    "```"
   ]
  },
  {
   "cell_type": "code",
   "execution_count": null,
   "metadata": {},
   "outputs": [],
   "source": [
    "print('intercept:', model5.intercept_)"
   ]
  },
  {
   "cell_type": "markdown",
   "metadata": {},
   "source": [
    "```intercept: [2.68875063]\n",
    "```"
   ]
  },
  {
   "cell_type": "code",
   "execution_count": null,
   "metadata": {},
   "outputs": [],
   "source": [
    "print('slope:', model5.coef_)"
   ]
  },
  {
   "cell_type": "markdown",
   "metadata": {},
   "source": [
    "```slope: [[0.01666855]]\n",
    "```"
   ]
  },
  {
   "cell_type": "code",
   "execution_count": null,
   "metadata": {},
   "outputs": [],
   "source": [
    "y5_pred = model5.predict(X3)\n",
    "print('predicted response:', y5_pred, sep='\\n')"
   ]
  },
  {
   "cell_type": "markdown",
   "metadata": {},
   "source": [
    "```predicted response:\n",
    "[[2.70541918]\n",
    " [2.73875628]\n",
    " [2.70541918]\n",
    " ...\n",
    " [2.73875628]\n",
    " [2.73875628]\n",
    " [2.70541918]]```"
   ]
  },
  {
   "cell_type": "markdown",
   "metadata": {},
   "source": [
    "#### As compared to age"
   ]
  },
  {
   "cell_type": "code",
   "execution_count": null,
   "metadata": {},
   "outputs": [],
   "source": [
    "model6 = LinearRegression().fit(X3, y2)"
   ]
  },
  {
   "cell_type": "code",
   "execution_count": null,
   "metadata": {},
   "outputs": [],
   "source": [
    "r_sq6 = model6.score(X3, y2)\n",
    "print('coefficient of determination:', r_sq6)"
   ]
  },
  {
   "cell_type": "markdown",
   "metadata": {},
   "source": [
    "```coefficient of determination: 0.0007190859847027165\n",
    "```"
   ]
  },
  {
   "cell_type": "code",
   "execution_count": null,
   "metadata": {},
   "outputs": [],
   "source": [
    "print('intercept:', model6.intercept_)\n",
    "print('slope:', model6.coef_)"
   ]
  },
  {
   "cell_type": "markdown",
   "metadata": {},
   "source": [
    "```intercept: [7.19809317]\n",
    "slope: [[-0.04630067]]```"
   ]
  },
  {
   "cell_type": "code",
   "execution_count": null,
   "metadata": {},
   "outputs": [],
   "source": [
    "y6_pred = model6.predict(X3)\n",
    "print('predicted response:', y6_pred, sep='\\n')"
   ]
  },
  {
   "cell_type": "markdown",
   "metadata": {},
   "source": [
    "```y6_pred = model6.predict(X3)\n",
    "print('predicted response:', y6_pred, sep='\\n')\n",
    "predicted response:\n",
    "[[7.1517925 ]\n",
    " [7.05919117]\n",
    " [7.1517925 ]\n",
    " ...\n",
    " [7.05919117]\n",
    " [7.05919117]\n",
    " [7.1517925 ]]```"
   ]
  },
  {
   "cell_type": "markdown",
   "metadata": {},
   "source": [
    "#### As compared to discharge disposition"
   ]
  },
  {
   "cell_type": "code",
   "execution_count": null,
   "metadata": {},
   "outputs": [],
   "source": [
    "y3=np.array([discharge_disposition]).reshape((-1,1))"
   ]
  },
  {
   "cell_type": "code",
   "execution_count": null,
   "metadata": {},
   "outputs": [],
   "source": [
    "model7 = LinearRegression().fit(X3, y3)"
   ]
  },
  {
   "cell_type": "code",
   "execution_count": null,
   "metadata": {},
   "outputs": [],
   "source": [
    "r_sq7 = model6.score(X3, y3)\n",
    "print('coefficient of determination:', r_sq7)"
   ]
  },
  {
   "cell_type": "markdown",
   "metadata": {},
   "source": [
    "```coefficient of determination: -0.41011004132757023\n",
    "```"
   ]
  },
  {
   "cell_type": "code",
   "execution_count": null,
   "metadata": {},
   "outputs": [],
   "source": [
    "print('intercept:', model7.intercept_)\n",
    "print('slope:', model7.coef_)"
   ]
  },
  {
   "cell_type": "markdown",
   "metadata": {},
   "source": [
    "```intercept: [3.70401577]\n",
    "slope: [[0.00530907]]```"
   ]
  },
  {
   "cell_type": "code",
   "execution_count": null,
   "metadata": {},
   "outputs": [],
   "source": [
    "y7_pred = model7.predict(X3)\n",
    "print('predicted response:', y7_pred, sep='\\n')"
   ]
  },
  {
   "cell_type": "markdown",
   "metadata": {},
   "source": [
    "```predicted response:\n",
    "[[3.70932484]\n",
    " [3.71994297]\n",
    " [3.70932484]\n",
    " ...\n",
    " [3.71994297]\n",
    " [3.71994297]\n",
    " [3.70932484]]```"
   ]
  },
  {
   "cell_type": "markdown",
   "metadata": {},
   "source": [
    "## <font color='Red'>Correlations</font> \n"
   ]
  },
  {
   "cell_type": "markdown",
   "metadata": {},
   "source": [
    "### Correlation Matrix\n",
    "\n",
    "A correlation matrix is a table showing correlation coefficients between variables. Each cell in the table shows the correlation between two variables. A correlation matrix is used to summarize data, as an input into a more advanced analysis, and as a diagnostic for advanced analyses. "
   ]
  },
  {
   "cell_type": "code",
   "execution_count": 229,
   "metadata": {},
   "outputs": [
    {
     "data": {
      "image/png": "[encoded data removed]",
      "text/plain": [
       "<Figure size 700x600 with 2 Axes>"
      ]
     },
     "metadata": {},
     "output_type": "display_data"
    }
   ],
   "source": [
    "corr = df.corr(method='spearman')\n",
    "\n",
    "# Generate a mask for the upper triangle\n",
    "mask = np.zeros_like(corr, dtype=np.bool)\n",
    "mask[np.triu_indices_from(mask)] = True\n",
    "\n",
    "# Set up the matplotlib figure\n",
    "fig, ax = plt.subplots(figsize=(7, 6))\n",
    "\n",
    "# Generate a custom diverging colormap\n",
    "cmap = sns.diverging_palette(240, 10, n=11)\n",
    "                                 \n",
    "\n",
    "# Draw the heatmap with the mask and correct aspect ratio\n",
    "sns.heatmap(corr, mask=mask, cmap=cmap, vmin=-1, vmax=1, center=0, linewidths=.5)\n",
    "\n",
    "plt.title('Correlation Matrix')\n",
    "\n",
    "fig.tight_layout()"
   ]
  },
  {
   "cell_type": "markdown",
   "metadata": {},
   "source": [
    "### Correlation Test"
   ]
  },
  {
   "cell_type": "markdown",
   "metadata": {},
   "source": [
    "### Pearson's Test"
   ]
  },
  {
   "cell_type": "markdown",
   "metadata": {},
   "source": [
    "#### Readmission per Length of Stay"
   ]
  },
  {
   "cell_type": "code",
   "execution_count": 120,
   "metadata": {},
   "outputs": [
    {
     "data": {
      "text/html": [
       "<div>\n",
       "<style scoped>\n",
       "    .dataframe tbody tr th:only-of-type {\n",
       "        vertical-align: middle;\n",
       "    }\n",
       "\n",
       "    .dataframe tbody tr th {\n",
       "        vertical-align: top;\n",
       "    }\n",
       "\n",
       "    .dataframe thead th {\n",
       "        text-align: right;\n",
       "    }\n",
       "</style>\n",
       "<table border=\"1\" class=\"dataframe\">\n",
       "  <thead>\n",
       "    <tr style=\"text-align: right;\">\n",
       "      <th></th>\n",
       "      <th>ethnicity/race</th>\n",
       "      <th>sex</th>\n",
       "      <th>age</th>\n",
       "      <th>admission_type_id</th>\n",
       "      <th>discharge_disposition_id</th>\n",
       "      <th>admission_source_id</th>\n",
       "      <th>LOS</th>\n",
       "      <th>medical_specialty</th>\n",
       "      <th>num_lab_procedures</th>\n",
       "      <th>num_procedures</th>\n",
       "      <th>...</th>\n",
       "      <th>number_outpatient</th>\n",
       "      <th>number_emergency</th>\n",
       "      <th>number_inpatient</th>\n",
       "      <th>number_diagnoses</th>\n",
       "      <th>max_glu_serum</th>\n",
       "      <th>metformin</th>\n",
       "      <th>insulin</th>\n",
       "      <th>diabetes_med</th>\n",
       "      <th>diabetes_med_change</th>\n",
       "      <th>readmitted</th>\n",
       "    </tr>\n",
       "  </thead>\n",
       "  <tbody>\n",
       "    <tr>\n",
       "      <th>ethnicity/race</th>\n",
       "      <td>1.000000</td>\n",
       "      <td>0.013162</td>\n",
       "      <td>0.091595</td>\n",
       "      <td>-0.004876</td>\n",
       "      <td>-0.001900</td>\n",
       "      <td>-0.006898</td>\n",
       "      <td>0.006562</td>\n",
       "      <td>-0.032483</td>\n",
       "      <td>-0.014216</td>\n",
       "      <td>0.012892</td>\n",
       "      <td>...</td>\n",
       "      <td>0.045695</td>\n",
       "      <td>0.003758</td>\n",
       "      <td>0.031718</td>\n",
       "      <td>0.096518</td>\n",
       "      <td>0.030045</td>\n",
       "      <td>0.001305</td>\n",
       "      <td>0.000779</td>\n",
       "      <td>-0.018053</td>\n",
       "      <td>-0.012095</td>\n",
       "      <td>0.043172</td>\n",
       "    </tr>\n",
       "    <tr>\n",
       "      <th>sex</th>\n",
       "      <td>0.013162</td>\n",
       "      <td>1.000000</td>\n",
       "      <td>-0.050600</td>\n",
       "      <td>0.000320</td>\n",
       "      <td>-0.005253</td>\n",
       "      <td>0.000733</td>\n",
       "      <td>-0.029866</td>\n",
       "      <td>-0.014482</td>\n",
       "      <td>-0.003021</td>\n",
       "      <td>0.059843</td>\n",
       "      <td>...</td>\n",
       "      <td>-0.011430</td>\n",
       "      <td>-0.021043</td>\n",
       "      <td>-0.014554</td>\n",
       "      <td>-0.003277</td>\n",
       "      <td>-0.002650</td>\n",
       "      <td>-0.000487</td>\n",
       "      <td>0.005999</td>\n",
       "      <td>0.015945</td>\n",
       "      <td>0.014832</td>\n",
       "      <td>-0.014385</td>\n",
       "    </tr>\n",
       "    <tr>\n",
       "      <th>age</th>\n",
       "      <td>0.091595</td>\n",
       "      <td>-0.050600</td>\n",
       "      <td>1.000000</td>\n",
       "      <td>0.009062</td>\n",
       "      <td>0.005788</td>\n",
       "      <td>-0.011324</td>\n",
       "      <td>0.107515</td>\n",
       "      <td>-0.019322</td>\n",
       "      <td>0.020770</td>\n",
       "      <td>-0.030104</td>\n",
       "      <td>...</td>\n",
       "      <td>0.023724</td>\n",
       "      <td>-0.087291</td>\n",
       "      <td>-0.042861</td>\n",
       "      <td>0.242597</td>\n",
       "      <td>0.020515</td>\n",
       "      <td>-0.002270</td>\n",
       "      <td>0.001944</td>\n",
       "      <td>-0.022601</td>\n",
       "      <td>-0.036019</td>\n",
       "      <td>0.030271</td>\n",
       "    </tr>\n",
       "    <tr>\n",
       "      <th>admission_type_id</th>\n",
       "      <td>-0.004876</td>\n",
       "      <td>0.000320</td>\n",
       "      <td>0.009062</td>\n",
       "      <td>1.000000</td>\n",
       "      <td>0.083483</td>\n",
       "      <td>0.106654</td>\n",
       "      <td>-0.009186</td>\n",
       "      <td>0.132030</td>\n",
       "      <td>0.022611</td>\n",
       "      <td>0.000877</td>\n",
       "      <td>...</td>\n",
       "      <td>-0.008553</td>\n",
       "      <td>0.005887</td>\n",
       "      <td>-0.004574</td>\n",
       "      <td>-0.004361</td>\n",
       "      <td>-0.000435</td>\n",
       "      <td>0.005823</td>\n",
       "      <td>-0.004650</td>\n",
       "      <td>0.005732</td>\n",
       "      <td>0.001983</td>\n",
       "      <td>-0.000503</td>\n",
       "    </tr>\n",
       "    <tr>\n",
       "      <th>discharge_disposition_id</th>\n",
       "      <td>-0.001900</td>\n",
       "      <td>-0.005253</td>\n",
       "      <td>0.005788</td>\n",
       "      <td>0.083483</td>\n",
       "      <td>1.000000</td>\n",
       "      <td>0.018193</td>\n",
       "      <td>-0.006651</td>\n",
       "      <td>0.128057</td>\n",
       "      <td>0.000038</td>\n",
       "      <td>-0.014640</td>\n",
       "      <td>...</td>\n",
       "      <td>-0.006192</td>\n",
       "      <td>0.009584</td>\n",
       "      <td>-0.002638</td>\n",
       "      <td>-0.000394</td>\n",
       "      <td>0.006655</td>\n",
       "      <td>0.003364</td>\n",
       "      <td>-0.005724</td>\n",
       "      <td>0.003061</td>\n",
       "      <td>0.005103</td>\n",
       "      <td>-0.000421</td>\n",
       "    </tr>\n",
       "    <tr>\n",
       "      <th>admission_source_id</th>\n",
       "      <td>-0.006898</td>\n",
       "      <td>0.000733</td>\n",
       "      <td>-0.011324</td>\n",
       "      <td>0.106654</td>\n",
       "      <td>0.018193</td>\n",
       "      <td>1.000000</td>\n",
       "      <td>-0.007749</td>\n",
       "      <td>0.180059</td>\n",
       "      <td>0.009059</td>\n",
       "      <td>0.000288</td>\n",
       "      <td>...</td>\n",
       "      <td>-0.025961</td>\n",
       "      <td>-0.000050</td>\n",
       "      <td>0.002965</td>\n",
       "      <td>-0.031417</td>\n",
       "      <td>0.002505</td>\n",
       "      <td>-0.006768</td>\n",
       "      <td>0.026968</td>\n",
       "      <td>0.004028</td>\n",
       "      <td>-0.000353</td>\n",
       "      <td>-0.004385</td>\n",
       "    </tr>\n",
       "    <tr>\n",
       "      <th>LOS</th>\n",
       "      <td>0.006562</td>\n",
       "      <td>-0.029866</td>\n",
       "      <td>0.107515</td>\n",
       "      <td>-0.009186</td>\n",
       "      <td>-0.006651</td>\n",
       "      <td>-0.007749</td>\n",
       "      <td>1.000000</td>\n",
       "      <td>-0.019470</td>\n",
       "      <td>0.318450</td>\n",
       "      <td>0.191472</td>\n",
       "      <td>...</td>\n",
       "      <td>-0.008916</td>\n",
       "      <td>-0.009681</td>\n",
       "      <td>0.073623</td>\n",
       "      <td>0.220186</td>\n",
       "      <td>0.028233</td>\n",
       "      <td>-0.000777</td>\n",
       "      <td>0.002469</td>\n",
       "      <td>0.062520</td>\n",
       "      <td>0.109173</td>\n",
       "      <td>0.057718</td>\n",
       "    </tr>\n",
       "    <tr>\n",
       "      <th>medical_specialty</th>\n",
       "      <td>-0.032483</td>\n",
       "      <td>-0.014482</td>\n",
       "      <td>-0.019322</td>\n",
       "      <td>0.132030</td>\n",
       "      <td>0.128057</td>\n",
       "      <td>0.180059</td>\n",
       "      <td>-0.019470</td>\n",
       "      <td>1.000000</td>\n",
       "      <td>0.030711</td>\n",
       "      <td>0.029260</td>\n",
       "      <td>...</td>\n",
       "      <td>-0.096006</td>\n",
       "      <td>0.013993</td>\n",
       "      <td>0.003784</td>\n",
       "      <td>-0.108693</td>\n",
       "      <td>0.008998</td>\n",
       "      <td>0.003208</td>\n",
       "      <td>-0.074021</td>\n",
       "      <td>0.025752</td>\n",
       "      <td>0.011943</td>\n",
       "      <td>-0.018906</td>\n",
       "    </tr>\n",
       "    <tr>\n",
       "      <th>num_lab_procedures</th>\n",
       "      <td>-0.014216</td>\n",
       "      <td>-0.003021</td>\n",
       "      <td>0.020770</td>\n",
       "      <td>0.022611</td>\n",
       "      <td>0.000038</td>\n",
       "      <td>0.009059</td>\n",
       "      <td>0.318450</td>\n",
       "      <td>0.030711</td>\n",
       "      <td>1.000000</td>\n",
       "      <td>0.058066</td>\n",
       "      <td>...</td>\n",
       "      <td>-0.007602</td>\n",
       "      <td>-0.002279</td>\n",
       "      <td>0.039231</td>\n",
       "      <td>0.152773</td>\n",
       "      <td>-0.128376</td>\n",
       "      <td>0.000793</td>\n",
       "      <td>-0.006890</td>\n",
       "      <td>0.033107</td>\n",
       "      <td>0.063958</td>\n",
       "      <td>0.037976</td>\n",
       "    </tr>\n",
       "    <tr>\n",
       "      <th>num_procedures</th>\n",
       "      <td>0.012892</td>\n",
       "      <td>0.059843</td>\n",
       "      <td>-0.030104</td>\n",
       "      <td>0.000877</td>\n",
       "      <td>-0.014640</td>\n",
       "      <td>0.000288</td>\n",
       "      <td>0.191472</td>\n",
       "      <td>0.029260</td>\n",
       "      <td>0.058066</td>\n",
       "      <td>1.000000</td>\n",
       "      <td>...</td>\n",
       "      <td>-0.024819</td>\n",
       "      <td>-0.038179</td>\n",
       "      <td>-0.066236</td>\n",
       "      <td>0.073734</td>\n",
       "      <td>-0.069278</td>\n",
       "      <td>-0.003946</td>\n",
       "      <td>0.008156</td>\n",
       "      <td>-0.006821</td>\n",
       "      <td>0.004448</td>\n",
       "      <td>-0.038235</td>\n",
       "    </tr>\n",
       "    <tr>\n",
       "      <th>num_medications</th>\n",
       "      <td>0.041417</td>\n",
       "      <td>-0.022030</td>\n",
       "      <td>0.041847</td>\n",
       "      <td>-0.015170</td>\n",
       "      <td>-0.021970</td>\n",
       "      <td>-0.025510</td>\n",
       "      <td>0.466135</td>\n",
       "      <td>-0.072917</td>\n",
       "      <td>0.268161</td>\n",
       "      <td>0.385767</td>\n",
       "      <td>...</td>\n",
       "      <td>0.045197</td>\n",
       "      <td>0.013180</td>\n",
       "      <td>0.064194</td>\n",
       "      <td>0.261526</td>\n",
       "      <td>-0.000605</td>\n",
       "      <td>-0.004154</td>\n",
       "      <td>0.010245</td>\n",
       "      <td>0.186910</td>\n",
       "      <td>0.246846</td>\n",
       "      <td>0.051772</td>\n",
       "    </tr>\n",
       "    <tr>\n",
       "      <th>number_outpatient</th>\n",
       "      <td>0.045695</td>\n",
       "      <td>-0.011430</td>\n",
       "      <td>0.023724</td>\n",
       "      <td>-0.008553</td>\n",
       "      <td>-0.006192</td>\n",
       "      <td>-0.025961</td>\n",
       "      <td>-0.008916</td>\n",
       "      <td>-0.096006</td>\n",
       "      <td>-0.007602</td>\n",
       "      <td>-0.024819</td>\n",
       "      <td>...</td>\n",
       "      <td>1.000000</td>\n",
       "      <td>0.091459</td>\n",
       "      <td>0.107338</td>\n",
       "      <td>0.094152</td>\n",
       "      <td>0.047422</td>\n",
       "      <td>-0.003557</td>\n",
       "      <td>0.009046</td>\n",
       "      <td>0.016456</td>\n",
       "      <td>0.024794</td>\n",
       "      <td>0.068552</td>\n",
       "    </tr>\n",
       "    <tr>\n",
       "      <th>number_emergency</th>\n",
       "      <td>0.003758</td>\n",
       "      <td>-0.021043</td>\n",
       "      <td>-0.087291</td>\n",
       "      <td>0.005887</td>\n",
       "      <td>0.009584</td>\n",
       "      <td>-0.000050</td>\n",
       "      <td>-0.009681</td>\n",
       "      <td>0.013993</td>\n",
       "      <td>-0.002279</td>\n",
       "      <td>-0.038179</td>\n",
       "      <td>...</td>\n",
       "      <td>0.091459</td>\n",
       "      <td>1.000000</td>\n",
       "      <td>0.266559</td>\n",
       "      <td>0.055539</td>\n",
       "      <td>0.034816</td>\n",
       "      <td>-0.000811</td>\n",
       "      <td>-0.011020</td>\n",
       "      <td>0.025923</td>\n",
       "      <td>0.038818</td>\n",
       "      <td>0.103024</td>\n",
       "    </tr>\n",
       "    <tr>\n",
       "      <th>number_inpatient</th>\n",
       "      <td>0.031718</td>\n",
       "      <td>-0.014554</td>\n",
       "      <td>-0.042861</td>\n",
       "      <td>-0.004574</td>\n",
       "      <td>-0.002638</td>\n",
       "      <td>0.002965</td>\n",
       "      <td>0.073623</td>\n",
       "      <td>0.003784</td>\n",
       "      <td>0.039231</td>\n",
       "      <td>-0.066236</td>\n",
       "      <td>...</td>\n",
       "      <td>0.107338</td>\n",
       "      <td>0.266559</td>\n",
       "      <td>1.000000</td>\n",
       "      <td>0.104710</td>\n",
       "      <td>0.031376</td>\n",
       "      <td>0.001303</td>\n",
       "      <td>-0.007382</td>\n",
       "      <td>0.026001</td>\n",
       "      <td>0.024042</td>\n",
       "      <td>0.234283</td>\n",
       "    </tr>\n",
       "    <tr>\n",
       "      <th>number_diagnoses</th>\n",
       "      <td>0.096518</td>\n",
       "      <td>-0.003277</td>\n",
       "      <td>0.242597</td>\n",
       "      <td>-0.004361</td>\n",
       "      <td>-0.000394</td>\n",
       "      <td>-0.031417</td>\n",
       "      <td>0.220186</td>\n",
       "      <td>-0.108693</td>\n",
       "      <td>0.152773</td>\n",
       "      <td>0.073734</td>\n",
       "      <td>...</td>\n",
       "      <td>0.094152</td>\n",
       "      <td>0.055539</td>\n",
       "      <td>0.104710</td>\n",
       "      <td>1.000000</td>\n",
       "      <td>-0.042508</td>\n",
       "      <td>-0.000475</td>\n",
       "      <td>0.002792</td>\n",
       "      <td>0.021186</td>\n",
       "      <td>0.053106</td>\n",
       "      <td>0.104820</td>\n",
       "    </tr>\n",
       "    <tr>\n",
       "      <th>max_glu_serum</th>\n",
       "      <td>0.030045</td>\n",
       "      <td>-0.002650</td>\n",
       "      <td>0.020515</td>\n",
       "      <td>-0.000435</td>\n",
       "      <td>0.006655</td>\n",
       "      <td>0.002505</td>\n",
       "      <td>0.028233</td>\n",
       "      <td>0.008998</td>\n",
       "      <td>-0.128376</td>\n",
       "      <td>-0.069278</td>\n",
       "      <td>...</td>\n",
       "      <td>0.047422</td>\n",
       "      <td>0.034816</td>\n",
       "      <td>0.031376</td>\n",
       "      <td>-0.042508</td>\n",
       "      <td>1.000000</td>\n",
       "      <td>0.001854</td>\n",
       "      <td>-0.001023</td>\n",
       "      <td>0.000771</td>\n",
       "      <td>0.015059</td>\n",
       "      <td>0.018796</td>\n",
       "    </tr>\n",
       "    <tr>\n",
       "      <th>metformin</th>\n",
       "      <td>0.001305</td>\n",
       "      <td>-0.000487</td>\n",
       "      <td>-0.002270</td>\n",
       "      <td>0.005823</td>\n",
       "      <td>0.003364</td>\n",
       "      <td>-0.006768</td>\n",
       "      <td>-0.000777</td>\n",
       "      <td>0.003208</td>\n",
       "      <td>0.000793</td>\n",
       "      <td>-0.003946</td>\n",
       "      <td>...</td>\n",
       "      <td>-0.003557</td>\n",
       "      <td>-0.000811</td>\n",
       "      <td>0.001303</td>\n",
       "      <td>-0.000475</td>\n",
       "      <td>0.001854</td>\n",
       "      <td>1.000000</td>\n",
       "      <td>-0.000417</td>\n",
       "      <td>-0.002108</td>\n",
       "      <td>-0.005160</td>\n",
       "      <td>0.001691</td>\n",
       "    </tr>\n",
       "    <tr>\n",
       "      <th>insulin</th>\n",
       "      <td>0.000779</td>\n",
       "      <td>0.005999</td>\n",
       "      <td>0.001944</td>\n",
       "      <td>-0.004650</td>\n",
       "      <td>-0.005724</td>\n",
       "      <td>0.026968</td>\n",
       "      <td>0.002469</td>\n",
       "      <td>-0.074021</td>\n",
       "      <td>-0.006890</td>\n",
       "      <td>0.008156</td>\n",
       "      <td>...</td>\n",
       "      <td>0.009046</td>\n",
       "      <td>-0.011020</td>\n",
       "      <td>-0.007382</td>\n",
       "      <td>0.002792</td>\n",
       "      <td>-0.001023</td>\n",
       "      <td>-0.000417</td>\n",
       "      <td>1.000000</td>\n",
       "      <td>-0.007058</td>\n",
       "      <td>-0.004920</td>\n",
       "      <td>-0.004312</td>\n",
       "    </tr>\n",
       "    <tr>\n",
       "      <th>diabetes_med</th>\n",
       "      <td>-0.018053</td>\n",
       "      <td>0.015945</td>\n",
       "      <td>-0.022601</td>\n",
       "      <td>0.005732</td>\n",
       "      <td>0.003061</td>\n",
       "      <td>0.004028</td>\n",
       "      <td>0.062520</td>\n",
       "      <td>0.025752</td>\n",
       "      <td>0.033107</td>\n",
       "      <td>-0.006821</td>\n",
       "      <td>...</td>\n",
       "      <td>0.016456</td>\n",
       "      <td>0.025923</td>\n",
       "      <td>0.026001</td>\n",
       "      <td>0.021186</td>\n",
       "      <td>0.000771</td>\n",
       "      <td>-0.002108</td>\n",
       "      <td>-0.007058</td>\n",
       "      <td>1.000000</td>\n",
       "      <td>0.506370</td>\n",
       "      <td>0.057306</td>\n",
       "    </tr>\n",
       "    <tr>\n",
       "      <th>diabetes_med_change</th>\n",
       "      <td>-0.012095</td>\n",
       "      <td>0.014832</td>\n",
       "      <td>-0.036019</td>\n",
       "      <td>0.001983</td>\n",
       "      <td>0.005103</td>\n",
       "      <td>-0.000353</td>\n",
       "      <td>0.109173</td>\n",
       "      <td>0.011943</td>\n",
       "      <td>0.063958</td>\n",
       "      <td>0.004448</td>\n",
       "      <td>...</td>\n",
       "      <td>0.024794</td>\n",
       "      <td>0.038818</td>\n",
       "      <td>0.024042</td>\n",
       "      <td>0.053106</td>\n",
       "      <td>0.015059</td>\n",
       "      <td>-0.005160</td>\n",
       "      <td>-0.004920</td>\n",
       "      <td>0.506370</td>\n",
       "      <td>1.000000</td>\n",
       "      <td>0.042504</td>\n",
       "    </tr>\n",
       "    <tr>\n",
       "      <th>readmitted</th>\n",
       "      <td>0.043172</td>\n",
       "      <td>-0.014385</td>\n",
       "      <td>0.030271</td>\n",
       "      <td>-0.000503</td>\n",
       "      <td>-0.000421</td>\n",
       "      <td>-0.004385</td>\n",
       "      <td>0.057718</td>\n",
       "      <td>-0.018906</td>\n",
       "      <td>0.037976</td>\n",
       "      <td>-0.038235</td>\n",
       "      <td>...</td>\n",
       "      <td>0.068552</td>\n",
       "      <td>0.103024</td>\n",
       "      <td>0.234283</td>\n",
       "      <td>0.104820</td>\n",
       "      <td>0.018796</td>\n",
       "      <td>0.001691</td>\n",
       "      <td>-0.004312</td>\n",
       "      <td>0.057306</td>\n",
       "      <td>0.042504</td>\n",
       "      <td>1.000000</td>\n",
       "    </tr>\n",
       "  </tbody>\n",
       "</table>\n",
       "<p>21 rows × 21 columns</p>\n",
       "</div>"
      ],
      "text/plain": [
       "                          ethnicity/race       sex       age  \\\n",
       "ethnicity/race                  1.000000  0.013162  0.091595   \n",
       "sex                             0.013162  1.000000 -0.050600   \n",
       "age                             0.091595 -0.050600  1.000000   \n",
       "admission_type_id              -0.004876  0.000320  0.009062   \n",
       "discharge_disposition_id       -0.001900 -0.005253  0.005788   \n",
       "admission_source_id            -0.006898  0.000733 -0.011324   \n",
       "LOS                             0.006562 -0.029866  0.107515   \n",
       "medical_specialty              -0.032483 -0.014482 -0.019322   \n",
       "num_lab_procedures             -0.014216 -0.003021  0.020770   \n",
       "num_procedures                  0.012892  0.059843 -0.030104   \n",
       "num_medications                 0.041417 -0.022030  0.041847   \n",
       "number_outpatient               0.045695 -0.011430  0.023724   \n",
       "number_emergency                0.003758 -0.021043 -0.087291   \n",
       "number_inpatient                0.031718 -0.014554 -0.042861   \n",
       "number_diagnoses                0.096518 -0.003277  0.242597   \n",
       "max_glu_serum                   0.030045 -0.002650  0.020515   \n",
       "metformin                       0.001305 -0.000487 -0.002270   \n",
       "insulin                         0.000779  0.005999  0.001944   \n",
       "diabetes_med                   -0.018053  0.015945 -0.022601   \n",
       "diabetes_med_change            -0.012095  0.014832 -0.036019   \n",
       "readmitted                      0.043172 -0.014385  0.030271   \n",
       "\n",
       "                          admission_type_id  discharge_disposition_id  \\\n",
       "ethnicity/race                    -0.004876                 -0.001900   \n",
       "sex                                0.000320                 -0.005253   \n",
       "age                                0.009062                  0.005788   \n",
       "admission_type_id                  1.000000                  0.083483   \n",
       "discharge_disposition_id           0.083483                  1.000000   \n",
       "admission_source_id                0.106654                  0.018193   \n",
       "LOS                               -0.009186                 -0.006651   \n",
       "medical_specialty                  0.132030                  0.128057   \n",
       "num_lab_procedures                 0.022611                  0.000038   \n",
       "num_procedures                     0.000877                 -0.014640   \n",
       "num_medications                   -0.015170                 -0.021970   \n",
       "number_outpatient                 -0.008553                 -0.006192   \n",
       "number_emergency                   0.005887                  0.009584   \n",
       "number_inpatient                  -0.004574                 -0.002638   \n",
       "number_diagnoses                  -0.004361                 -0.000394   \n",
       "max_glu_serum                     -0.000435                  0.006655   \n",
       "metformin                          0.005823                  0.003364   \n",
       "insulin                           -0.004650                 -0.005724   \n",
       "diabetes_med                       0.005732                  0.003061   \n",
       "diabetes_med_change                0.001983                  0.005103   \n",
       "readmitted                        -0.000503                 -0.000421   \n",
       "\n",
       "                          admission_source_id       LOS  medical_specialty  \\\n",
       "ethnicity/race                      -0.006898  0.006562          -0.032483   \n",
       "sex                                  0.000733 -0.029866          -0.014482   \n",
       "age                                 -0.011324  0.107515          -0.019322   \n",
       "admission_type_id                    0.106654 -0.009186           0.132030   \n",
       "discharge_disposition_id             0.018193 -0.006651           0.128057   \n",
       "admission_source_id                  1.000000 -0.007749           0.180059   \n",
       "LOS                                 -0.007749  1.000000          -0.019470   \n",
       "medical_specialty                    0.180059 -0.019470           1.000000   \n",
       "num_lab_procedures                   0.009059  0.318450           0.030711   \n",
       "num_procedures                       0.000288  0.191472           0.029260   \n",
       "num_medications                     -0.025510  0.466135          -0.072917   \n",
       "number_outpatient                   -0.025961 -0.008916          -0.096006   \n",
       "number_emergency                    -0.000050 -0.009681           0.013993   \n",
       "number_inpatient                     0.002965  0.073623           0.003784   \n",
       "number_diagnoses                    -0.031417  0.220186          -0.108693   \n",
       "max_glu_serum                        0.002505  0.028233           0.008998   \n",
       "metformin                           -0.006768 -0.000777           0.003208   \n",
       "insulin                              0.026968  0.002469          -0.074021   \n",
       "diabetes_med                         0.004028  0.062520           0.025752   \n",
       "diabetes_med_change                 -0.000353  0.109173           0.011943   \n",
       "readmitted                          -0.004385  0.057718          -0.018906   \n",
       "\n",
       "                          num_lab_procedures  num_procedures  ...  \\\n",
       "ethnicity/race                     -0.014216        0.012892  ...   \n",
       "sex                                -0.003021        0.059843  ...   \n",
       "age                                 0.020770       -0.030104  ...   \n",
       "admission_type_id                   0.022611        0.000877  ...   \n",
       "discharge_disposition_id            0.000038       -0.014640  ...   \n",
       "admission_source_id                 0.009059        0.000288  ...   \n",
       "LOS                                 0.318450        0.191472  ...   \n",
       "medical_specialty                   0.030711        0.029260  ...   \n",
       "num_lab_procedures                  1.000000        0.058066  ...   \n",
       "num_procedures                      0.058066        1.000000  ...   \n",
       "num_medications                     0.268161        0.385767  ...   \n",
       "number_outpatient                  -0.007602       -0.024819  ...   \n",
       "number_emergency                   -0.002279       -0.038179  ...   \n",
       "number_inpatient                    0.039231       -0.066236  ...   \n",
       "number_diagnoses                    0.152773        0.073734  ...   \n",
       "max_glu_serum                      -0.128376       -0.069278  ...   \n",
       "metformin                           0.000793       -0.003946  ...   \n",
       "insulin                            -0.006890        0.008156  ...   \n",
       "diabetes_med                        0.033107       -0.006821  ...   \n",
       "diabetes_med_change                 0.063958        0.004448  ...   \n",
       "readmitted                          0.037976       -0.038235  ...   \n",
       "\n",
       "                          number_outpatient  number_emergency  \\\n",
       "ethnicity/race                     0.045695          0.003758   \n",
       "sex                               -0.011430         -0.021043   \n",
       "age                                0.023724         -0.087291   \n",
       "admission_type_id                 -0.008553          0.005887   \n",
       "discharge_disposition_id          -0.006192          0.009584   \n",
       "admission_source_id               -0.025961         -0.000050   \n",
       "LOS                               -0.008916         -0.009681   \n",
       "medical_specialty                 -0.096006          0.013993   \n",
       "num_lab_procedures                -0.007602         -0.002279   \n",
       "num_procedures                    -0.024819         -0.038179   \n",
       "num_medications                    0.045197          0.013180   \n",
       "number_outpatient                  1.000000          0.091459   \n",
       "number_emergency                   0.091459          1.000000   \n",
       "number_inpatient                   0.107338          0.266559   \n",
       "number_diagnoses                   0.094152          0.055539   \n",
       "max_glu_serum                      0.047422          0.034816   \n",
       "metformin                         -0.003557         -0.000811   \n",
       "insulin                            0.009046         -0.011020   \n",
       "diabetes_med                       0.016456          0.025923   \n",
       "diabetes_med_change                0.024794          0.038818   \n",
       "readmitted                         0.068552          0.103024   \n",
       "\n",
       "                          number_inpatient  number_diagnoses  max_glu_serum  \\\n",
       "ethnicity/race                    0.031718          0.096518       0.030045   \n",
       "sex                              -0.014554         -0.003277      -0.002650   \n",
       "age                              -0.042861          0.242597       0.020515   \n",
       "admission_type_id                -0.004574         -0.004361      -0.000435   \n",
       "discharge_disposition_id         -0.002638         -0.000394       0.006655   \n",
       "admission_source_id               0.002965         -0.031417       0.002505   \n",
       "LOS                               0.073623          0.220186       0.028233   \n",
       "medical_specialty                 0.003784         -0.108693       0.008998   \n",
       "num_lab_procedures                0.039231          0.152773      -0.128376   \n",
       "num_procedures                   -0.066236          0.073734      -0.069278   \n",
       "num_medications                   0.064194          0.261526      -0.000605   \n",
       "number_outpatient                 0.107338          0.094152       0.047422   \n",
       "number_emergency                  0.266559          0.055539       0.034816   \n",
       "number_inpatient                  1.000000          0.104710       0.031376   \n",
       "number_diagnoses                  0.104710          1.000000      -0.042508   \n",
       "max_glu_serum                     0.031376         -0.042508       1.000000   \n",
       "metformin                         0.001303         -0.000475       0.001854   \n",
       "insulin                          -0.007382          0.002792      -0.001023   \n",
       "diabetes_med                      0.026001          0.021186       0.000771   \n",
       "diabetes_med_change               0.024042          0.053106       0.015059   \n",
       "readmitted                        0.234283          0.104820       0.018796   \n",
       "\n",
       "                          metformin   insulin  diabetes_med  \\\n",
       "ethnicity/race             0.001305  0.000779     -0.018053   \n",
       "sex                       -0.000487  0.005999      0.015945   \n",
       "age                       -0.002270  0.001944     -0.022601   \n",
       "admission_type_id          0.005823 -0.004650      0.005732   \n",
       "discharge_disposition_id   0.003364 -0.005724      0.003061   \n",
       "admission_source_id       -0.006768  0.026968      0.004028   \n",
       "LOS                       -0.000777  0.002469      0.062520   \n",
       "medical_specialty          0.003208 -0.074021      0.025752   \n",
       "num_lab_procedures         0.000793 -0.006890      0.033107   \n",
       "num_procedures            -0.003946  0.008156     -0.006821   \n",
       "num_medications           -0.004154  0.010245      0.186910   \n",
       "number_outpatient         -0.003557  0.009046      0.016456   \n",
       "number_emergency          -0.000811 -0.011020      0.025923   \n",
       "number_inpatient           0.001303 -0.007382      0.026001   \n",
       "number_diagnoses          -0.000475  0.002792      0.021186   \n",
       "max_glu_serum              0.001854 -0.001023      0.000771   \n",
       "metformin                  1.000000 -0.000417     -0.002108   \n",
       "insulin                   -0.000417  1.000000     -0.007058   \n",
       "diabetes_med              -0.002108 -0.007058      1.000000   \n",
       "diabetes_med_change       -0.005160 -0.004920      0.506370   \n",
       "readmitted                 0.001691 -0.004312      0.057306   \n",
       "\n",
       "                          diabetes_med_change  readmitted  \n",
       "ethnicity/race                      -0.012095    0.043172  \n",
       "sex                                  0.014832   -0.014385  \n",
       "age                                 -0.036019    0.030271  \n",
       "admission_type_id                    0.001983   -0.000503  \n",
       "discharge_disposition_id             0.005103   -0.000421  \n",
       "admission_source_id                 -0.000353   -0.004385  \n",
       "LOS                                  0.109173    0.057718  \n",
       "medical_specialty                    0.011943   -0.018906  \n",
       "num_lab_procedures                   0.063958    0.037976  \n",
       "num_procedures                       0.004448   -0.038235  \n",
       "num_medications                      0.246846    0.051772  \n",
       "number_outpatient                    0.024794    0.068552  \n",
       "number_emergency                     0.038818    0.103024  \n",
       "number_inpatient                     0.024042    0.234283  \n",
       "number_diagnoses                     0.053106    0.104820  \n",
       "max_glu_serum                        0.015059    0.018796  \n",
       "metformin                           -0.005160    0.001691  \n",
       "insulin                             -0.004920   -0.004312  \n",
       "diabetes_med                         0.506370    0.057306  \n",
       "diabetes_med_change                  1.000000    0.042504  \n",
       "readmitted                           0.042504    1.000000  \n",
       "\n",
       "[21 rows x 21 columns]"
      ]
     },
     "execution_count": 120,
     "metadata": {},
     "output_type": "execute_result"
    }
   ],
   "source": [
    "df.corr(method='pearson', min_periods=1)"
   ]
  },
  {
   "cell_type": "code",
   "execution_count": 115,
   "metadata": {},
   "outputs": [
    {
     "data": {
      "text/plain": [
       "(0.05771827472814491, 7.87344598562159e-76)"
      ]
     },
     "execution_count": 115,
     "metadata": {},
     "output_type": "execute_result"
    }
   ],
   "source": [
    "scipy.stats.pearsonr(df.LOS,df.readmitted)"
   ]
  },
  {
   "cell_type": "markdown",
   "metadata": {},
   "source": [
    "#### Number of Diagnoses per Number of Procedures"
   ]
  },
  {
   "cell_type": "code",
   "execution_count": 123,
   "metadata": {},
   "outputs": [
    {
     "data": {
      "text/plain": [
       "(0.26816062516987405, 0.0)"
      ]
     },
     "execution_count": 123,
     "metadata": {},
     "output_type": "execute_result"
    }
   ],
   "source": [
    "scipy.stats.pearsonr(df.num_lab_procedures,df.num_medications)"
   ]
  },
  {
   "cell_type": "markdown",
   "metadata": {},
   "source": [
    "### Spearman's Test"
   ]
  },
  {
   "cell_type": "code",
   "execution_count": 122,
   "metadata": {},
   "outputs": [
    {
     "data": {
      "text/plain": [
       "SpearmanrResult(correlation=0.06666365725318307, pvalue=1.4157628646176474e-100)"
      ]
     },
     "execution_count": 122,
     "metadata": {},
     "output_type": "execute_result"
    }
   ],
   "source": [
    "scipy.stats.spearmanr(df.LOS,df.readmitted)"
   ]
  },
  {
   "cell_type": "code",
   "execution_count": 124,
   "metadata": {},
   "outputs": [
    {
     "data": {
      "text/plain": [
       "SpearmanrResult(correlation=0.2516335955696946, pvalue=0.0)"
      ]
     },
     "execution_count": 124,
     "metadata": {},
     "output_type": "execute_result"
    }
   ],
   "source": [
    "scipy.stats.spearmanr(df.num_lab_procedures,df.num_medications)"
   ]
  },
  {
   "cell_type": "markdown",
   "metadata": {},
   "source": [
    "### Correlation Visuals"
   ]
  },
  {
   "cell_type": "code",
   "execution_count": 125,
   "metadata": {},
   "outputs": [
    {
     "data": {
      "text/plain": [
       "Text(0, 0.5, 'Readmitted')"
      ]
     },
     "execution_count": 125,
     "metadata": {},
     "output_type": "execute_result"
    },
    {
     "data": {
      "image/png": "[encoded data removed]",
      "text/plain": [
       "<Figure size 864x360 with 1 Axes>"
      ]
     },
     "metadata": {
      "needs_background": "light"
     },
     "output_type": "display_data"
    }
   ],
   "source": [
    "# set figure size\n",
    "plt.figure( figsize = ( 12, 5))\n",
    "  \n",
    "# plot a simple time series plot\n",
    "# using seaborn.lineplot()\n",
    "import seaborn as sns\n",
    "\n",
    "sns.lineplot( x = df['LOS'],\n",
    "             y = df['readmitted'],\n",
    "             data = df,\n",
    "             label = 'Readmitted')\n",
    "\n",
    "plt.title('Readmission per Length of Stay')  \n",
    "plt.xlabel( 'Length of Stay')\n",
    "plt.ylabel( 'Readmitted')"
   ]
  },
  {
   "cell_type": "code",
   "execution_count": 126,
   "metadata": {},
   "outputs": [
    {
     "data": {
      "text/plain": [
       "Text(0, 0.5, 'Number of Lab Procedures')"
      ]
     },
     "execution_count": 126,
     "metadata": {},
     "output_type": "execute_result"
    },
    {
     "data": {
      "image/png": "[encoded data removed]",
      "text/plain": [
       "<Figure size 864x360 with 1 Axes>"
      ]
     },
     "metadata": {
      "needs_background": "light"
     },
     "output_type": "display_data"
    }
   ],
   "source": [
    "# set figure size\n",
    "plt.figure( figsize = ( 12, 5))\n",
    "  \n",
    "# plot a simple time series plot\n",
    "# using seaborn.lineplot()\n",
    "import seaborn as sns\n",
    "\n",
    "sns.lineplot( x = df['num_medications'],\n",
    "             y = df['num_lab_procedures'],\n",
    "             data = df,\n",
    "             label = 'Number of Procedures')\n",
    "\n",
    "plt.title('Number of Lab Procedures per Medications')  \n",
    "plt.xlabel( 'Number of Medications')\n",
    "plt.ylabel( 'Number of Lab Procedures')"
   ]
  },
  {
   "cell_type": "markdown",
   "metadata": {},
   "source": [
    "## <font color='Red'>Multilinear Regression Analysis</font> "
   ]
  },
  {
   "cell_type": "markdown",
   "metadata": {},
   "source": [
    "In this test, we are trying to determine the length of stay (y) using number of procedures and number of diagnoses (X). Our number of procedures and number of diagnoses are our independent variables while length of stay represents our dependent variable that is affected by our independent values.\n",
    "\n",
    "For our first test, we are performing a coefficient test. The coefficient is a factor that describes the relationship with an unknown variable. In this case, we can ask for the coefficient value of weight against length of stay, and for number of diagnoses against length of stay. The results tells us what would happen if we increase, or decrease, one of the independent values."
   ]
  },
  {
   "cell_type": "code",
   "execution_count": 231,
   "metadata": {},
   "outputs": [
    {
     "name": "stdout",
     "output_type": "stream",
     "text": [
      "[0.03162571 0.15067373]\n"
     ]
    }
   ],
   "source": [
    "from sklearn import linear_model\n",
    "\n",
    "X_multi = df[['num_lab_procedures','num_medications']]\n",
    "y_multi = df['LOS']\n",
    "\n",
    "regr = linear_model.LinearRegression()\n",
    "regr.fit(X_multi, y_multi)\n",
    "\n",
    "print(regr.coef_)"
   ]
  },
  {
   "cell_type": "markdown",
   "metadata": {},
   "source": [
    "### Results Explained\n",
    "\n",
    "The result array represents the coefficient values of number of procedures and number of diagnoses.\n",
    "\n",
    "Number of Procedures: 0.03162571\n",
    "Number of Diagnoses: 0.15067373\n",
    "\n",
    "These values tell us that if the number of procedures increase by 1, the length of stay increases by 0.3083346 days or roughly 45 minutes and if the number of diagnoses increases by 1, the length of stay increases by 0.31986903 days or about 3 and half hours."
   ]
  },
  {
   "cell_type": "markdown",
   "metadata": {},
   "source": [
    "### Sample, we will try to find the length of stay of Patient A if he had 7 lab procedures and takes 2 medications. "
   ]
  },
  {
   "cell_type": "code",
   "execution_count": 242,
   "metadata": {},
   "outputs": [
    {
     "name": "stdout",
     "output_type": "stream",
     "text": [
      "[4.40671988]\n"
     ]
    }
   ],
   "source": [
    "X_multi = df[['num_lab_procedures','num_medications']]\n",
    "y_multi = df['LOS']\n",
    "\n",
    "regr = linear_model.LinearRegression()\n",
    "regr.fit(X, y)\n",
    "\n",
    "predictedLOS_patientA = regr.predict([[7,2]])\n",
    "\n",
    "print(predictedLOS_patientA)"
   ]
  },
  {
   "cell_type": "code",
   "execution_count": 185,
   "metadata": {},
   "outputs": [
    {
     "data": {
      "image/png": "[encoded data removed]",
      "text/plain": [
       "<Figure size 800x400 with 1 Axes>"
      ]
     },
     "metadata": {},
     "output_type": "display_data"
    }
   ],
   "source": [
    "plt.style.use('default')\n",
    "plt.style.use('ggplot')\n",
    "\n",
    "fig, ax = plt.subplots(figsize=(8, 4))\n",
    "\n",
    "ax.plot(X_multi, response, color='k', label='Regression model')\n",
    "ax.scatter(X_multi, y, edgecolor='k', facecolor='grey', alpha=0.7, label='Sample data')\n",
    "ax.set_ylabel('Number of Procedures', fontsize=14)\n",
    "ax.set_xlabel('Length of Stay (days)', fontsize=14)\n",
    "ax.legend(facecolor='white', fontsize=11)\n",
    "ax.set_title('$R^2= %.2f$' % r2, fontsize=18)\n",
    "\n",
    "fig.tight_layout()"
   ]
  },
  {
   "cell_type": "markdown",
   "metadata": {},
   "source": [
    "## <font color='Red'>Machine Learning</font> \n"
   ]
  },
  {
   "cell_type": "markdown",
   "metadata": {},
   "source": [
    "## Splitting up the data\n",
    "#### Creating a trainning and test data set"
   ]
  },
  {
   "cell_type": "code",
   "execution_count": 243,
   "metadata": {},
   "outputs": [
    {
     "name": "stdout",
     "output_type": "stream",
     "text": [
      "<class 'pandas.core.frame.DataFrame'>\n",
      "RangeIndex: 101766 entries, 0 to 101765\n",
      "Data columns (total 21 columns):\n",
      " #   Column                    Non-Null Count   Dtype\n",
      "---  ------                    --------------   -----\n",
      " 0   ethnicity/race            101766 non-null  int64\n",
      " 1   sex                       101766 non-null  int64\n",
      " 2   age                       101766 non-null  int64\n",
      " 3   admission_type_id         101766 non-null  int64\n",
      " 4   discharge_disposition_id  101766 non-null  int64\n",
      " 5   admission_source_id       101766 non-null  int64\n",
      " 6   LOS                       101766 non-null  int64\n",
      " 7   medical_specialty         101766 non-null  int64\n",
      " 8   num_lab_procedures        101766 non-null  int64\n",
      " 9   num_procedures            101766 non-null  int64\n",
      " 10  num_medications           101766 non-null  int64\n",
      " 11  number_outpatient         101766 non-null  int64\n",
      " 12  number_emergency          101766 non-null  int64\n",
      " 13  number_inpatient          101766 non-null  int64\n",
      " 14  number_diagnoses          101766 non-null  int64\n",
      " 15  max_glu_serum             101766 non-null  int64\n",
      " 16  metformin                 101766 non-null  int64\n",
      " 17  insulin                   101766 non-null  int64\n",
      " 18  diabetes_med              101766 non-null  int64\n",
      " 19  diabetes_med_change       101766 non-null  int64\n",
      " 20  readmitted                101766 non-null  int64\n",
      "dtypes: int64(21)\n",
      "memory usage: 16.3 MB\n"
     ]
    }
   ],
   "source": [
    "df.info()"
   ]
  },
  {
   "cell_type": "markdown",
   "metadata": {},
   "source": [
    "#### Drop unneeded variables"
   ]
  },
  {
   "cell_type": "code",
   "execution_count": 82,
   "metadata": {},
   "outputs": [],
   "source": [
    "df_model = df.drop(['metformin','insulin','medical_specialty','sex'], axis=1)"
   ]
  },
  {
   "cell_type": "markdown",
   "metadata": {},
   "source": [
    "## Creating Training and Test Set"
   ]
  },
  {
   "cell_type": "code",
   "execution_count": 83,
   "metadata": {},
   "outputs": [],
   "source": [
    "# x = all columns BESIDES readmitted\n",
    "# y = ONLY readmitted\n",
    "\n",
    "X = df_model.drop(['readmitted'], axis = 1)\n",
    "y = df_model.pop('readmitted')"
   ]
  },
  {
   "cell_type": "code",
   "execution_count": 84,
   "metadata": {},
   "outputs": [],
   "source": [
    "X_train, X_test, y_train, y_test = train_test_split(X, y, test_size=0.30, random_state=1)"
   ]
  },
  {
   "cell_type": "code",
   "execution_count": 85,
   "metadata": {},
   "outputs": [],
   "source": [
    "## Scaling data\n",
    "sc = StandardScaler()\n",
    "\n",
    "X_train = sc.fit_transform(X_train)\n",
    "X_test = sc.transform(X_test)"
   ]
  },
  {
   "cell_type": "markdown",
   "metadata": {},
   "source": [
    "## Modeling\n",
    "#### 1. Logistic Regression\n",
    "#### 2. Linear Discriminant Analysis\n",
    "#### 3. Naive Bayes\n",
    "#### 4. Cluster Algorithm\n",
    "#### 6. Decision Tree\n",
    "#### 7. Random Forest"
   ]
  },
  {
   "cell_type": "markdown",
   "metadata": {},
   "source": [
    "### Logistic Regression"
   ]
  },
  {
   "cell_type": "markdown",
   "metadata": {},
   "source": []
  },
  {
   "cell_type": "code",
   "execution_count": 86,
   "metadata": {},
   "outputs": [
    {
     "name": "stdout",
     "output_type": "stream",
     "text": [
      "Accuracy on Train set 0.5677326071087653\n",
      "Accuracy on Test set 0.569996724533246\n",
      "F1-score on Test set: 0.3461484624326989\n",
      "              precision    recall  f1-score   support\n",
      "\n",
      "           0       0.59      0.91      0.71     16509\n",
      "           1       0.49      0.23      0.31     10634\n",
      "           2       0.36      0.01      0.02      3387\n",
      "\n",
      "    accuracy                           0.57     30530\n",
      "   macro avg       0.48      0.38      0.35     30530\n",
      "weighted avg       0.53      0.57      0.49     30530\n",
      "\n"
     ]
    }
   ],
   "source": [
    "from sklearn.linear_model import LogisticRegression\n",
    "\n",
    "LR_model = LogisticRegression(max_iter=2000)\n",
    "\n",
    "# fit the model\n",
    "LR_model.fit(X_train, y_train)\n",
    "\n",
    "y_predict_LR = LR_model.predict(X_test)\n",
    "\n",
    "# model score\n",
    "predict_train_LR = LR_model.predict(X_train)\n",
    "predict_test_LR = LR_model.predict(X_test)\n",
    "\n",
    "# accuracy score\n",
    "LR_train_score = LR_model.score(X_train,y_train)\n",
    "LR_test_score = LR_model.score(X_test,y_test)\n",
    "\n",
    "# f1-score\n",
    "LR_f1_score = metrics.f1_score(y_test,predict_test_LR, average = 'macro')\n",
    "LR_recall = metrics.recall_score(y_test,predict_test_LR, average = 'macro')\n",
    "\n",
    "print('Accuracy on Train set',LR_train_score)\n",
    "print('Accuracy on Test set',LR_test_score)\n",
    "print('F1-score on Test set:',LR_f1_score)\n",
    "print(metrics.classification_report(y_test, predict_test_LR))"
   ]
  },
  {
   "cell_type": "markdown",
   "metadata": {},
   "source": [
    "### Linear Discriminant Analysis\n"
   ]
  },
  {
   "cell_type": "code",
   "execution_count": 87,
   "metadata": {},
   "outputs": [
    {
     "name": "stdout",
     "output_type": "stream",
     "text": [
      "Accuracy on Train set 0.5627772474591499\n",
      "Accuracy on Test set 0.5653128070750082\n",
      "F1-score on Test set: 0.3505912847221538\n",
      "              precision    recall  f1-score   support\n",
      "\n",
      "           0       0.58      0.92      0.71     16509\n",
      "           1       0.50      0.18      0.26     10634\n",
      "           2       0.36      0.04      0.08      3387\n",
      "\n",
      "    accuracy                           0.57     30530\n",
      "   macro avg       0.48      0.38      0.35     30530\n",
      "weighted avg       0.53      0.57      0.48     30530\n",
      "\n"
     ]
    }
   ],
   "source": [
    "from sklearn.discriminant_analysis import LinearDiscriminantAnalysis\n",
    "\n",
    "\n",
    "LDA = LinearDiscriminantAnalysis(solver='svd')\n",
    "\n",
    "# fit the model\n",
    "LDA.fit(X_train, y_train)\n",
    "\n",
    "y_predict_LDA = LDA.predict(X_test)\n",
    "\n",
    "# model score\n",
    "predict_train_LDA = LDA.predict(X_train)\n",
    "predict_test_LDA = LDA.predict(X_test)\n",
    "\n",
    "# accuracy score\n",
    "LDA_train_score = LDA.score(X_train,y_train)\n",
    "LDA_test_score = LDA.score(X_test,y_test)\n",
    "\n",
    "# f1-score\n",
    "LDA_f1_score = metrics.f1_score(y_test,predict_test_LDA, average = 'macro')\n",
    "LDA_recall = metrics.recall_score(y_test, predict_test_LDA, average = 'macro')\n",
    "\n",
    "print('Accuracy on Train set',LDA_train_score)\n",
    "print('Accuracy on Test set',LDA_test_score)\n",
    "print('F1-score on Test set:',LDA_f1_score)\n",
    "print(metrics.classification_report(y_test, predict_test_LDA))"
   ]
  },
  {
   "cell_type": "markdown",
   "metadata": {},
   "source": [
    "### Naive Bayes\n"
   ]
  },
  {
   "cell_type": "code",
   "execution_count": 88,
   "metadata": {},
   "outputs": [
    {
     "name": "stdout",
     "output_type": "stream",
     "text": [
      "Accuracy on Train set 0.5514487057105958\n",
      "Accuracy on Test set 0.5548968227972486\n",
      "F1-score on Test set: 0.37139255249884817\n",
      "              precision    recall  f1-score   support\n",
      "\n",
      "           0       0.58      0.89      0.70     16509\n",
      "           1       0.48      0.17      0.25     10634\n",
      "           2       0.27      0.11      0.16      3387\n",
      "\n",
      "    accuracy                           0.55     30530\n",
      "   macro avg       0.44      0.39      0.37     30530\n",
      "weighted avg       0.51      0.55      0.49     30530\n",
      "\n"
     ]
    }
   ],
   "source": [
    "from sklearn.naive_bayes import GaussianNB\n",
    "\n",
    "NB_model = GaussianNB()\n",
    "\n",
    "# fit the model\n",
    "NB_model.fit(X_train, y_train)\n",
    "\n",
    "y_predict_NB = NB_model.predict(X_test)\n",
    "\n",
    "# model score\n",
    "predict_train_NB = NB_model.predict(X_train)\n",
    "predict_test_NB = NB_model.predict(X_test)\n",
    "\n",
    "# accuracy score\n",
    "NB_train_score = NB_model.score(X_train,y_train)\n",
    "NB_test_score = NB_model.score(X_test,y_test)\n",
    "\n",
    "# f1-score\n",
    "NB_f1_score = metrics.f1_score(y_test,predict_test_NB, average = 'macro')  \n",
    "NB_recall = metrics.recall_score(y_test, predict_test_NB, average = 'macro')\n",
    "\n",
    "print('Accuracy on Train set',NB_train_score)\n",
    "print('Accuracy on Test set',NB_test_score)\n",
    "print('F1-score on Test set:',NB_f1_score)\n",
    "print(metrics.classification_report(y_test, predict_test_NB))"
   ]
  },
  {
   "cell_type": "markdown",
   "metadata": {},
   "source": [
    "### Model Results and Outcomes\n"
   ]
  },
  {
   "cell_type": "code",
   "execution_count": 89,
   "metadata": {},
   "outputs": [],
   "source": [
    "model_compare = pd.DataFrame({\n",
    "    \n",
    "'Models':['LogisticRegression','LinearDiscriminantAnalysis','Naive_Bayes'],\n",
    "'f1_score':[LR_f1_score, LDA_f1_score, NB_f1_score],\n",
    "'recall':[LR_recall, LDA_recall, NB_recall],\n",
    "'Accuracy on train set':[LR_train_score,LDA_train_score,NB_train_score],\n",
    "'Accuracy on test set':[LR_test_score,LDA_test_score,NB_test_score]\n",
    "\n",
    "})\n",
    "\n",
    "model_compare = model_compare.sort_values('recall',ascending=False)"
   ]
  },
  {
   "cell_type": "code",
   "execution_count": 90,
   "metadata": {},
   "outputs": [
    {
     "data": {
      "text/html": [
       "<style  type=\"text/css\" >\n",
       "    #T_d5e7b498_ac30_11eb_84b8_febf0079f0f1row0_col1 {\n",
       "            background-color:  #08306b;\n",
       "            color:  #f1f1f1;\n",
       "        }    #T_d5e7b498_ac30_11eb_84b8_febf0079f0f1row0_col2 {\n",
       "            background-color:  #08306b;\n",
       "            color:  #f1f1f1;\n",
       "        }    #T_d5e7b498_ac30_11eb_84b8_febf0079f0f1row0_col3 {\n",
       "            background-color:  #f7fbff;\n",
       "            color:  #000000;\n",
       "        }    #T_d5e7b498_ac30_11eb_84b8_febf0079f0f1row0_col4 {\n",
       "            background-color:  #f7fbff;\n",
       "            color:  #000000;\n",
       "        }    #T_d5e7b498_ac30_11eb_84b8_febf0079f0f1row1_col1 {\n",
       "            background-color:  #d4e4f4;\n",
       "            color:  #000000;\n",
       "        }    #T_d5e7b498_ac30_11eb_84b8_febf0079f0f1row1_col2 {\n",
       "            background-color:  #e8f1fa;\n",
       "            color:  #000000;\n",
       "        }    #T_d5e7b498_ac30_11eb_84b8_febf0079f0f1row1_col3 {\n",
       "            background-color:  #2f7fbc;\n",
       "            color:  #000000;\n",
       "        }    #T_d5e7b498_ac30_11eb_84b8_febf0079f0f1row1_col4 {\n",
       "            background-color:  #3181bd;\n",
       "            color:  #000000;\n",
       "        }    #T_d5e7b498_ac30_11eb_84b8_febf0079f0f1row2_col1 {\n",
       "            background-color:  #f7fbff;\n",
       "            color:  #000000;\n",
       "        }    #T_d5e7b498_ac30_11eb_84b8_febf0079f0f1row2_col2 {\n",
       "            background-color:  #f7fbff;\n",
       "            color:  #000000;\n",
       "        }    #T_d5e7b498_ac30_11eb_84b8_febf0079f0f1row2_col3 {\n",
       "            background-color:  #08306b;\n",
       "            color:  #f1f1f1;\n",
       "        }    #T_d5e7b498_ac30_11eb_84b8_febf0079f0f1row2_col4 {\n",
       "            background-color:  #08306b;\n",
       "            color:  #f1f1f1;\n",
       "        }</style><table id=\"T_d5e7b498_ac30_11eb_84b8_febf0079f0f1\" ><thead>    <tr>        <th class=\"blank level0\" ></th>        <th class=\"col_heading level0 col0\" >Models</th>        <th class=\"col_heading level0 col1\" >f1_score</th>        <th class=\"col_heading level0 col2\" >recall</th>        <th class=\"col_heading level0 col3\" >Accuracy on train set</th>        <th class=\"col_heading level0 col4\" >Accuracy on test set</th>    </tr></thead><tbody>\n",
       "                <tr>\n",
       "                        <th id=\"T_d5e7b498_ac30_11eb_84b8_febf0079f0f1level0_row0\" class=\"row_heading level0 row0\" >2</th>\n",
       "                        <td id=\"T_d5e7b498_ac30_11eb_84b8_febf0079f0f1row0_col0\" class=\"data row0 col0\" >Naive_Bayes</td>\n",
       "                        <td id=\"T_d5e7b498_ac30_11eb_84b8_febf0079f0f1row0_col1\" class=\"data row0 col1\" >0.371393</td>\n",
       "                        <td id=\"T_d5e7b498_ac30_11eb_84b8_febf0079f0f1row0_col2\" class=\"data row0 col2\" >0.391770</td>\n",
       "                        <td id=\"T_d5e7b498_ac30_11eb_84b8_febf0079f0f1row0_col3\" class=\"data row0 col3\" >0.551449</td>\n",
       "                        <td id=\"T_d5e7b498_ac30_11eb_84b8_febf0079f0f1row0_col4\" class=\"data row0 col4\" >0.554897</td>\n",
       "            </tr>\n",
       "            <tr>\n",
       "                        <th id=\"T_d5e7b498_ac30_11eb_84b8_febf0079f0f1level0_row1\" class=\"row_heading level0 row1\" >1</th>\n",
       "                        <td id=\"T_d5e7b498_ac30_11eb_84b8_febf0079f0f1row1_col0\" class=\"data row1 col0\" >LinearDiscriminantAnalysis</td>\n",
       "                        <td id=\"T_d5e7b498_ac30_11eb_84b8_febf0079f0f1row1_col1\" class=\"data row1 col1\" >0.350591</td>\n",
       "                        <td id=\"T_d5e7b498_ac30_11eb_84b8_febf0079f0f1row1_col2\" class=\"data row1 col2\" >0.381360</td>\n",
       "                        <td id=\"T_d5e7b498_ac30_11eb_84b8_febf0079f0f1row1_col3\" class=\"data row1 col3\" >0.562777</td>\n",
       "                        <td id=\"T_d5e7b498_ac30_11eb_84b8_febf0079f0f1row1_col4\" class=\"data row1 col4\" >0.565313</td>\n",
       "            </tr>\n",
       "            <tr>\n",
       "                        <th id=\"T_d5e7b498_ac30_11eb_84b8_febf0079f0f1level0_row2\" class=\"row_heading level0 row2\" >0</th>\n",
       "                        <td id=\"T_d5e7b498_ac30_11eb_84b8_febf0079f0f1row2_col0\" class=\"data row2 col0\" >LogisticRegression</td>\n",
       "                        <td id=\"T_d5e7b498_ac30_11eb_84b8_febf0079f0f1row2_col1\" class=\"data row2 col1\" >0.346148</td>\n",
       "                        <td id=\"T_d5e7b498_ac30_11eb_84b8_febf0079f0f1row2_col2\" class=\"data row2 col2\" >0.380516</td>\n",
       "                        <td id=\"T_d5e7b498_ac30_11eb_84b8_febf0079f0f1row2_col3\" class=\"data row2 col3\" >0.567733</td>\n",
       "                        <td id=\"T_d5e7b498_ac30_11eb_84b8_febf0079f0f1row2_col4\" class=\"data row2 col4\" >0.569997</td>\n",
       "            </tr>\n",
       "    </tbody></table>"
      ],
      "text/plain": [
       "<pandas.io.formats.style.Styler at 0x28819119af0>"
      ]
     },
     "execution_count": 90,
     "metadata": {},
     "output_type": "execute_result"
    }
   ],
   "source": [
    "# print out comparison in 'Blues' or 'Greens' or 'Greys'\n",
    "model_compare.style.background_gradient(cmap='Blues')"
   ]
  },
  {
   "cell_type": "markdown",
   "metadata": {},
   "source": [
    "### Cluster Algorithm Analysis\n"
   ]
  },
  {
   "cell_type": "code",
   "execution_count": 94,
   "metadata": {},
   "outputs": [
    {
     "name": "stdout",
     "output_type": "stream",
     "text": [
      "0.24.2\n"
     ]
    }
   ],
   "source": [
    "# check scikit-learn version\n",
    "import sklearn\n",
    "print(sklearn.__version__)"
   ]
  },
  {
   "cell_type": "markdown",
   "metadata": {},
   "source": [
    "In this chart, it shows the scatter plot chart to present a K means Cluster By making the features into clusters that may relate to one another, we can see the how close or far relationship between the variables are from one another."
   ]
  },
  {
   "cell_type": "code",
   "execution_count": 96,
   "metadata": {},
   "outputs": [
    {
     "name": "stdout",
     "output_type": "stream",
     "text": [
      "(1000, 2) (1000,)\n"
     ]
    },
    {
     "data": {
      "text/plain": [
       "<matplotlib.collections.PathCollection at 0x2881758c3a0>"
      ]
     },
     "execution_count": 96,
     "metadata": {},
     "output_type": "execute_result"
    },
    {
     "data": {
      "image/png": "[encoded data removed]",
      "text/plain": [
       "<Figure size 432x288 with 1 Axes>"
      ]
     },
     "metadata": {
      "needs_background": "light"
     },
     "output_type": "display_data"
    }
   ],
   "source": [
    "from sklearn.datasets import make_blobs\n",
    "\n",
    "X, y = make_blobs(n_samples=1000, centers=20,\n",
    "                  random_state=0, cluster_std=0.90)\n",
    "print(X.shape, y.shape)\n",
    "\n",
    "plt.scatter(X[:, 0], X[:, 1], s=20);\n",
    "\n",
    "from sklearn.cluster import KMeans\n",
    "ktest = KMeans(n_clusters=3) #number of clusters to predict 3\n",
    "ktest.fit(X) #fitting the model to X\n",
    "y_pred = ktest.predict(X) #predicting labels (y) and saving to y_pred\n",
    "\n",
    "#Plotting predicted labels as a scatter\n",
    "plt.scatter(X[:,0], X[:,1], c=y_pred)"
   ]
  },
  {
   "cell_type": "markdown",
   "metadata": {},
   "source": [
    "### Decision Tree Classifier\n"
   ]
  },
  {
   "cell_type": "code",
   "execution_count": 91,
   "metadata": {},
   "outputs": [
    {
     "name": "stdout",
     "output_type": "stream",
     "text": [
      "Accuracy on Train set 0.9997192430793419\n",
      "Accuracy on Test set 0.4541762201113659\n",
      "F1-score on Test set: 0.3686189253349468\n",
      "\n",
      "\n",
      "              precision    recall  f1-score   support\n",
      "\n",
      "           0       0.58      0.56      0.57     16509\n",
      "           1       0.38      0.39      0.39     10634\n",
      "           2       0.14      0.16      0.15      3387\n",
      "\n",
      "    accuracy                           0.45     30530\n",
      "   macro avg       0.37      0.37      0.37     30530\n",
      "weighted avg       0.46      0.45      0.46     30530\n",
      "\n"
     ]
    }
   ],
   "source": [
    "from sklearn.tree import DecisionTreeClassifier\n",
    "\n",
    "DT_model= DecisionTreeClassifier()\n",
    "\n",
    "# fit the model\n",
    "DT_model.fit(X_train,y_train)\n",
    "\n",
    "# model score\n",
    "predict_train_DT = DT_model.predict(X_train)\n",
    "predict_test_DT = DT_model.predict(X_test)\n",
    "\n",
    "# accuracy score\n",
    "DT_train_score = DT_model.score(X_train,y_train)\n",
    "DT_test_score = DT_model.score(X_test,y_test)\n",
    "\n",
    "# f1-score\n",
    "DT_f1_score = metrics.f1_score(y_test, predict_test_DT, average = 'macro')\n",
    "\n",
    "print('Accuracy on Train set',DT_train_score)\n",
    "print('Accuracy on Test set',DT_test_score)\n",
    "print('F1-score on Test set:',DT_f1_score)\n",
    "print('\\n')\n",
    "print(metrics.classification_report(y_test, predict_test_DT))"
   ]
  },
  {
   "cell_type": "markdown",
   "metadata": {},
   "source": [
    "### Random Forest Classifier\n"
   ]
  },
  {
   "cell_type": "code",
   "execution_count": 92,
   "metadata": {},
   "outputs": [
    {
     "name": "stdout",
     "output_type": "stream",
     "text": [
      "Accuracy on Train set 0.9997192430793419\n",
      "Accuracy on Test set 0.5582705535538814\n",
      "F1-score on Test set: 0.3775204656616084\n",
      "              precision    recall  f1-score   support\n",
      "\n",
      "           0       0.60      0.80      0.69     16509\n",
      "           1       0.45      0.36      0.40     10634\n",
      "           2       0.28      0.02      0.05      3387\n",
      "\n",
      "    accuracy                           0.56     30530\n",
      "   macro avg       0.45      0.39      0.38     30530\n",
      "weighted avg       0.52      0.56      0.52     30530\n",
      "\n"
     ]
    }
   ],
   "source": [
    "from sklearn.ensemble import RandomForestClassifier\n",
    "\n",
    "# create object model\n",
    "RF_model = RandomForestClassifier()\n",
    "\n",
    "# fit the model\n",
    "RF_model.fit(X_train,y_train)\n",
    "\n",
    "# model score\n",
    "predict_train_RF = RF_model.predict(X_train)\n",
    "predict_test_RF = RF_model.predict(X_test)\n",
    "\n",
    "# accuracy score\n",
    "RF_train_score = RF_model.score(X_train,y_train)\n",
    "RF_test_score = RF_model.score(X_test,y_test)\n",
    "\n",
    "# f1-score\n",
    "RF_f1_score = metrics.f1_score(y_test,predict_test_RF, average = 'macro')\n",
    "\n",
    "print('Accuracy on Train set',RF_train_score)\n",
    "print('Accuracy on Test set',RF_test_score)\n",
    "print('F1-score on Test set:',RF_f1_score)\n",
    "print(metrics.classification_report(y_test,predict_test_RF))"
   ]
  },
  {
   "cell_type": "markdown",
   "metadata": {},
   "source": [
    "### Tuning Model\n"
   ]
  },
  {
   "cell_type": "markdown",
   "metadata": {},
   "source": [
    "### Tuning Decision Tree"
   ]
  },
  {
   "cell_type": "code",
   "execution_count": 93,
   "metadata": {},
   "outputs": [
    {
     "data": {
      "text/plain": [
       "GridSearchCV(cv=3, estimator=RandomForestClassifier(),\n",
       "             param_grid={'max_depth': [7, 10], 'max_features': [2, 4],\n",
       "                         'min_samples_leaf': [20, 30],\n",
       "                         'min_samples_split': [90, 100]})"
      ]
     },
     "execution_count": 93,
     "metadata": {},
     "output_type": "execute_result"
    }
   ],
   "source": [
    "from sklearn.model_selection import GridSearchCV\n",
    "\n",
    "#\"\"\"\n",
    "parameters= {'max_depth':[7,10],\n",
    "            'max_features':[2,4],\n",
    "            'min_samples_split' : [90,100],\n",
    "            'min_samples_leaf' : [20,30]}\n",
    "\n",
    "\n",
    "DT = RandomForestClassifier()\n",
    "\n",
    "DT_model_tune = GridSearchCV(DT, param_grid = parameters, cv=3)\n",
    "\n",
    "DT_model_tune.fit(X_train,y_train)"
   ]
  },
  {
   "cell_type": "code",
   "execution_count": 58,
   "metadata": {},
   "outputs": [
    {
     "data": {
      "text/plain": [
       "{'max_depth': 10,\n",
       " 'max_features': 4,\n",
       " 'min_samples_leaf': 30,\n",
       " 'min_samples_split': 90}"
      ]
     },
     "execution_count": 58,
     "metadata": {},
     "output_type": "execute_result"
    }
   ],
   "source": [
    "DT_model_tune.best_params_"
   ]
  },
  {
   "cell_type": "code",
   "execution_count": 59,
   "metadata": {},
   "outputs": [
    {
     "name": "stdout",
     "output_type": "stream",
     "text": [
      "Accuracy on Train set 0.5767308664158571\n",
      "Accuracy on Test set 0.5630854896822797\n",
      "F1-score on Test set: 0.36070908242385197\n",
      "\n",
      "\n",
      "              precision    recall  f1-score   support\n",
      "\n",
      "           0       0.60      0.83      0.69     16509\n",
      "           1       0.46      0.32      0.38     10634\n",
      "           2       0.23      0.00      0.01      3387\n",
      "\n",
      "    accuracy                           0.56     30530\n",
      "   macro avg       0.43      0.39      0.36     30530\n",
      "weighted avg       0.51      0.56      0.51     30530\n",
      "\n"
     ]
    }
   ],
   "source": [
    "DT_model_tune= DecisionTreeClassifier(min_samples_split=90,min_samples_leaf= 20,\n",
    " max_features= 4,max_depth=10)\n",
    "\n",
    "# fit the model\n",
    "DT_model_tune.fit(X_train,y_train)\n",
    "\n",
    "# model score\n",
    "predict_train_DT = DT_model_tune.predict(X_train)\n",
    "predict_test_DT = DT_model_tune.predict(X_test)\n",
    "\n",
    "# accuracy score\n",
    "DT_train_score = DT_model_tune.score(X_train,y_train)\n",
    "DT_test_score = DT_model_tune.score(X_test,y_test)\n",
    "\n",
    "# f1-score\n",
    "DT_f1_score = metrics.f1_score(y_test, predict_test_DT, average = 'macro')\n",
    "DT_recall = metrics.recall_score(y_test, predict_test_DT, average = 'macro')\n",
    "\n",
    "print('Accuracy on Train set',DT_train_score)\n",
    "print('Accuracy on Test set',DT_test_score)\n",
    "print('F1-score on Test set:',DT_f1_score)\n",
    "print('\\n')\n",
    "print(metrics.classification_report(y_test, predict_test_DT))"
   ]
  },
  {
   "cell_type": "code",
   "execution_count": 60,
   "metadata": {},
   "outputs": [
    {
     "name": "stdout",
     "output_type": "stream",
     "text": [
      "Fitting 3 folds for each of 20 candidates, totalling 60 fits\n",
      "[CV] END max_depth=7, max_features=4, min_samples_leaf=40, min_samples_split=100, n_estimators=400; total time=   7.8s\n",
      "[CV] END max_depth=7, max_features=4, min_samples_leaf=40, min_samples_split=100, n_estimators=400; total time=   8.0s\n",
      "[CV] END max_depth=7, max_features=4, min_samples_leaf=40, min_samples_split=100, n_estimators=400; total time=   8.3s\n",
      "[CV] END max_depth=6, max_features=4, min_samples_leaf=40, min_samples_split=150, n_estimators=400; total time=   7.8s\n",
      "[CV] END max_depth=6, max_features=4, min_samples_leaf=40, min_samples_split=150, n_estimators=400; total time=   8.2s\n",
      "[CV] END max_depth=6, max_features=4, min_samples_leaf=40, min_samples_split=150, n_estimators=400; total time=   8.5s\n",
      "[CV] END max_depth=7, max_features=4, min_samples_leaf=30, min_samples_split=100, n_estimators=300; total time=   6.4s\n",
      "[CV] END max_depth=7, max_features=4, min_samples_leaf=30, min_samples_split=100, n_estimators=300; total time=   6.4s\n",
      "[CV] END max_depth=7, max_features=4, min_samples_leaf=30, min_samples_split=100, n_estimators=300; total time=   6.4s\n",
      "[CV] END max_depth=7, max_features=2, min_samples_leaf=30, min_samples_split=100, n_estimators=400; total time=   6.3s\n",
      "[CV] END max_depth=7, max_features=2, min_samples_leaf=30, min_samples_split=100, n_estimators=400; total time=   5.4s\n",
      "[CV] END max_depth=7, max_features=2, min_samples_leaf=30, min_samples_split=100, n_estimators=400; total time=   5.4s\n",
      "[CV] END max_depth=6, max_features=4, min_samples_leaf=30, min_samples_split=100, n_estimators=300; total time=   4.9s\n",
      "[CV] END max_depth=6, max_features=4, min_samples_leaf=30, min_samples_split=100, n_estimators=300; total time=   5.0s\n",
      "[CV] END max_depth=6, max_features=4, min_samples_leaf=30, min_samples_split=100, n_estimators=300; total time=   5.0s\n",
      "[CV] END max_depth=6, max_features=4, min_samples_leaf=30, min_samples_split=100, n_estimators=400; total time=   6.8s\n",
      "[CV] END max_depth=6, max_features=4, min_samples_leaf=30, min_samples_split=100, n_estimators=400; total time=   6.7s\n",
      "[CV] END max_depth=6, max_features=4, min_samples_leaf=30, min_samples_split=100, n_estimators=400; total time=   6.7s\n",
      "[CV] END max_depth=7, max_features=4, min_samples_leaf=40, min_samples_split=150, n_estimators=300; total time=   5.7s\n",
      "[CV] END max_depth=7, max_features=4, min_samples_leaf=40, min_samples_split=150, n_estimators=300; total time=   5.9s\n",
      "[CV] END max_depth=7, max_features=4, min_samples_leaf=40, min_samples_split=150, n_estimators=300; total time=   5.6s\n",
      "[CV] END max_depth=7, max_features=4, min_samples_leaf=30, min_samples_split=100, n_estimators=400; total time=   7.6s\n",
      "[CV] END max_depth=7, max_features=4, min_samples_leaf=30, min_samples_split=100, n_estimators=400; total time=   8.0s\n",
      "[CV] END max_depth=7, max_features=4, min_samples_leaf=30, min_samples_split=100, n_estimators=400; total time=   7.6s\n",
      "[CV] END max_depth=6, max_features=4, min_samples_leaf=40, min_samples_split=100, n_estimators=300; total time=   5.4s\n",
      "[CV] END max_depth=6, max_features=4, min_samples_leaf=40, min_samples_split=100, n_estimators=300; total time=   5.4s\n",
      "[CV] END max_depth=6, max_features=4, min_samples_leaf=40, min_samples_split=100, n_estimators=300; total time=   5.9s\n",
      "[CV] END max_depth=6, max_features=2, min_samples_leaf=30, min_samples_split=100, n_estimators=300; total time=   4.6s\n",
      "[CV] END max_depth=6, max_features=2, min_samples_leaf=30, min_samples_split=100, n_estimators=300; total time=   4.0s\n",
      "[CV] END max_depth=6, max_features=2, min_samples_leaf=30, min_samples_split=100, n_estimators=300; total time=   4.5s\n",
      "[CV] END max_depth=6, max_features=2, min_samples_leaf=40, min_samples_split=100, n_estimators=300; total time=   4.1s\n",
      "[CV] END max_depth=6, max_features=2, min_samples_leaf=40, min_samples_split=100, n_estimators=300; total time=   4.4s\n",
      "[CV] END max_depth=6, max_features=2, min_samples_leaf=40, min_samples_split=100, n_estimators=300; total time=   4.1s\n",
      "[CV] END max_depth=7, max_features=2, min_samples_leaf=30, min_samples_split=100, n_estimators=300; total time=   4.3s\n",
      "[CV] END max_depth=7, max_features=2, min_samples_leaf=30, min_samples_split=100, n_estimators=300; total time=   4.4s\n",
      "[CV] END max_depth=7, max_features=2, min_samples_leaf=30, min_samples_split=100, n_estimators=300; total time=   4.7s\n",
      "[CV] END max_depth=6, max_features=2, min_samples_leaf=40, min_samples_split=100, n_estimators=400; total time=   5.3s\n",
      "[CV] END max_depth=6, max_features=2, min_samples_leaf=40, min_samples_split=100, n_estimators=400; total time=   5.4s\n",
      "[CV] END max_depth=6, max_features=2, min_samples_leaf=40, min_samples_split=100, n_estimators=400; total time=   6.0s\n",
      "[CV] END max_depth=6, max_features=4, min_samples_leaf=40, min_samples_split=100, n_estimators=400; total time=   7.2s\n",
      "[CV] END max_depth=6, max_features=4, min_samples_leaf=40, min_samples_split=100, n_estimators=400; total time=   7.0s\n",
      "[CV] END max_depth=6, max_features=4, min_samples_leaf=40, min_samples_split=100, n_estimators=400; total time=   8.0s\n",
      "[CV] END max_depth=6, max_features=4, min_samples_leaf=30, min_samples_split=150, n_estimators=400; total time=   7.9s\n",
      "[CV] END max_depth=6, max_features=4, min_samples_leaf=30, min_samples_split=150, n_estimators=400; total time=   7.9s\n",
      "[CV] END max_depth=6, max_features=4, min_samples_leaf=30, min_samples_split=150, n_estimators=400; total time=   6.9s\n",
      "[CV] END max_depth=7, max_features=2, min_samples_leaf=40, min_samples_split=150, n_estimators=400; total time=   5.3s\n",
      "[CV] END max_depth=7, max_features=2, min_samples_leaf=40, min_samples_split=150, n_estimators=400; total time=   5.3s\n",
      "[CV] END max_depth=7, max_features=2, min_samples_leaf=40, min_samples_split=150, n_estimators=400; total time=   5.5s\n",
      "[CV] END max_depth=6, max_features=2, min_samples_leaf=30, min_samples_split=100, n_estimators=400; total time=   7.3s\n",
      "[CV] END max_depth=6, max_features=2, min_samples_leaf=30, min_samples_split=100, n_estimators=400; total time=   6.3s\n",
      "[CV] END max_depth=6, max_features=2, min_samples_leaf=30, min_samples_split=100, n_estimators=400; total time=   5.0s\n",
      "[CV] END max_depth=6, max_features=2, min_samples_leaf=30, min_samples_split=150, n_estimators=300; total time=   4.1s\n",
      "[CV] END max_depth=6, max_features=2, min_samples_leaf=30, min_samples_split=150, n_estimators=300; total time=   3.9s\n",
      "[CV] END max_depth=6, max_features=2, min_samples_leaf=30, min_samples_split=150, n_estimators=300; total time=   4.0s\n",
      "[CV] END max_depth=7, max_features=4, min_samples_leaf=30, min_samples_split=150, n_estimators=300; total time=   6.8s\n",
      "[CV] END max_depth=7, max_features=4, min_samples_leaf=30, min_samples_split=150, n_estimators=300; total time=   6.1s\n",
      "[CV] END max_depth=7, max_features=4, min_samples_leaf=30, min_samples_split=150, n_estimators=300; total time=   6.3s\n",
      "[CV] END max_depth=6, max_features=2, min_samples_leaf=30, min_samples_split=150, n_estimators=400; total time=   5.2s\n",
      "[CV] END max_depth=6, max_features=2, min_samples_leaf=30, min_samples_split=150, n_estimators=400; total time=   6.1s\n",
      "[CV] END max_depth=6, max_features=2, min_samples_leaf=30, min_samples_split=150, n_estimators=400; total time=   5.6s\n"
     ]
    },
    {
     "data": {
      "text/plain": [
       "RandomizedSearchCV(cv=3, estimator=RandomForestClassifier(), n_iter=20,\n",
       "                   param_distributions={'max_depth': [6, 7],\n",
       "                                        'max_features': [2, 4],\n",
       "                                        'min_samples_leaf': [30, 40],\n",
       "                                        'min_samples_split': [100, 150],\n",
       "                                        'n_estimators': [300, 400]},\n",
       "                   random_state=42, verbose=2)"
      ]
     },
     "execution_count": 60,
     "metadata": {},
     "output_type": "execute_result"
    }
   ],
   "source": [
    "from sklearn.model_selection import RandomizedSearchCV\n",
    "\n",
    "# to get best parameters\n",
    "\n",
    "# fine Tune the model using RandomizedSearchCV\n",
    "\n",
    "#\"\"\"\n",
    "parameters= {'n_estimators':[300,400],\n",
    "            'max_depth':[6,7],\n",
    "            'max_features':[2,4],\n",
    "            'min_samples_split' : [100,150],\n",
    "            'min_samples_leaf' : [30,40]}\n",
    "\n",
    "\n",
    "rf = RandomForestClassifier()\n",
    "\n",
    "rf_model_tune = RandomizedSearchCV(rf, param_distributions = parameters, cv=3,n_iter = 20, verbose=2, random_state=42)\n",
    "\n",
    "rf_model_tune.fit(X_train,y_train)\n",
    "\n",
    "#\"\"\""
   ]
  },
  {
   "cell_type": "markdown",
   "metadata": {},
   "source": [
    "### Tuning Random Forest "
   ]
  },
  {
   "cell_type": "code",
   "execution_count": 61,
   "metadata": {},
   "outputs": [
    {
     "name": "stdout",
     "output_type": "stream",
     "text": [
      "Accuracy on Train set 0.5778398562524566\n",
      "Accuracy on Test set 0.5740583033082214\n",
      "F1-score on Test set: 0.3513343009868423\n",
      "              precision    recall  f1-score   support\n",
      "\n",
      "           0       0.59      0.89      0.71     16509\n",
      "           1       0.50      0.26      0.34     10634\n",
      "           2       0.00      0.00      0.00      3387\n",
      "\n",
      "    accuracy                           0.57     30530\n",
      "   macro avg       0.36      0.38      0.35     30530\n",
      "weighted avg       0.49      0.57      0.50     30530\n",
      "\n"
     ]
    },
    {
     "name": "stderr",
     "output_type": "stream",
     "text": [
      "C:\\Users\\Leeza A. Santos\\anaconda3\\lib\\site-packages\\sklearn\\metrics\\_classification.py:1248: UndefinedMetricWarning: Precision and F-score are ill-defined and being set to 0.0 in labels with no predicted samples. Use `zero_division` parameter to control this behavior.\n",
      "  _warn_prf(average, modifier, msg_start, len(result))\n",
      "C:\\Users\\Leeza A. Santos\\anaconda3\\lib\\site-packages\\sklearn\\metrics\\_classification.py:1248: UndefinedMetricWarning: Precision and F-score are ill-defined and being set to 0.0 in labels with no predicted samples. Use `zero_division` parameter to control this behavior.\n",
      "  _warn_prf(average, modifier, msg_start, len(result))\n",
      "C:\\Users\\Leeza A. Santos\\anaconda3\\lib\\site-packages\\sklearn\\metrics\\_classification.py:1248: UndefinedMetricWarning: Precision and F-score are ill-defined and being set to 0.0 in labels with no predicted samples. Use `zero_division` parameter to control this behavior.\n",
      "  _warn_prf(average, modifier, msg_start, len(result))\n"
     ]
    }
   ],
   "source": [
    "# finding best parameters are iterative process\n",
    "\n",
    "## n_estimators= 400,min_samples_split= 100,min_samples_leaf=30,max_features= 6,max_depth=11,bootstrap= False ## f1-score .228\n",
    "\n",
    "# create object model\n",
    "RF_model = RandomForestClassifier(n_estimators= 400,min_samples_split= 100,min_samples_leaf=30,max_features= 4,max_depth=7,bootstrap= False)\n",
    "\n",
    "# fit the model\n",
    "RF_model.fit(X_train,y_train)\n",
    "\n",
    "# model score\n",
    "predict_train_RF = RF_model.predict(X_train)\n",
    "predict_test_RF = RF_model.predict(X_test)\n",
    "\n",
    "# accuracy score\n",
    "RF_train_score = RF_model.score(X_train,y_train)\n",
    "RF_test_score = RF_model.score(X_test,y_test)\n",
    "\n",
    "# f1-score\n",
    "RF_f1_score = metrics.f1_score(y_test,predict_test_RF, average = 'macro')\n",
    "RF_recall = metrics.recall_score(y_test,predict_test_RF, average = 'macro')\n",
    "print('Accuracy on Train set',RF_train_score)\n",
    "print('Accuracy on Test set',RF_test_score)\n",
    "print('F1-score on Test set:',RF_f1_score)\n",
    "print(metrics.classification_report(y_test,predict_test_RF))"
   ]
  },
  {
   "cell_type": "code",
   "execution_count": null,
   "metadata": {},
   "outputs": [],
   "source": []
  },
  {
   "cell_type": "code",
   "execution_count": 62,
   "metadata": {},
   "outputs": [],
   "source": [
    "model_compare = pd.DataFrame({\n",
    "    \n",
    "'Models':['Desicion Tree','RandomForestClassifier','LogisticRegression','LinearDiscriminantAnalysis','Naive_Bayes'],\n",
    "'f1_score':[DT_f1_score, RF_f1_score, LR_f1_score, LDA_f1_score, NB_f1_score],\n",
    "'recall':[DT_recall, RF_recall, LR_recall, LDA_recall, NB_recall],\n",
    "'Accuracy on train set':[DT_train_score,RF_train_score,LR_train_score,LDA_train_score,NB_train_score],\n",
    "'Accuracy on test set':[DT_test_score, RF_test_score,LR_test_score,LDA_test_score,NB_test_score]\n",
    "\n",
    "})\n",
    "\n",
    "model_compare = model_compare.sort_values('recall',ascending=False)"
   ]
  },
  {
   "cell_type": "code",
   "execution_count": 63,
   "metadata": {},
   "outputs": [
    {
     "data": {
      "text/html": [
       "<style  type=\"text/css\" >\n",
       "    #T_423ce446_ac30_11eb_a17e_febf0079f0f1row0_col1 {\n",
       "            background-color:  #08306b;\n",
       "            color:  #f1f1f1;\n",
       "        }    #T_423ce446_ac30_11eb_a17e_febf0079f0f1row0_col2 {\n",
       "            background-color:  #08306b;\n",
       "            color:  #f1f1f1;\n",
       "        }    #T_423ce446_ac30_11eb_a17e_febf0079f0f1row0_col3 {\n",
       "            background-color:  #f7fbff;\n",
       "            color:  #000000;\n",
       "        }    #T_423ce446_ac30_11eb_a17e_febf0079f0f1row0_col4 {\n",
       "            background-color:  #f7fbff;\n",
       "            color:  #000000;\n",
       "        }    #T_423ce446_ac30_11eb_a17e_febf0079f0f1row1_col1 {\n",
       "            background-color:  #66abd4;\n",
       "            color:  #000000;\n",
       "        }    #T_423ce446_ac30_11eb_a17e_febf0079f0f1row1_col2 {\n",
       "            background-color:  #71b1d7;\n",
       "            color:  #000000;\n",
       "        }    #T_423ce446_ac30_11eb_a17e_febf0079f0f1row1_col3 {\n",
       "            background-color:  #083a7a;\n",
       "            color:  #f1f1f1;\n",
       "        }    #T_423ce446_ac30_11eb_a17e_febf0079f0f1row1_col4 {\n",
       "            background-color:  #82bbdb;\n",
       "            color:  #000000;\n",
       "        }    #T_423ce446_ac30_11eb_a17e_febf0079f0f1row2_col1 {\n",
       "            background-color:  #d7e6f5;\n",
       "            color:  #000000;\n",
       "        }    #T_423ce446_ac30_11eb_a17e_febf0079f0f1row2_col2 {\n",
       "            background-color:  #a6cee4;\n",
       "            color:  #000000;\n",
       "        }    #T_423ce446_ac30_11eb_a17e_febf0079f0f1row2_col3 {\n",
       "            background-color:  #08306b;\n",
       "            color:  #f1f1f1;\n",
       "        }    #T_423ce446_ac30_11eb_a17e_febf0079f0f1row2_col4 {\n",
       "            background-color:  #08306b;\n",
       "            color:  #f1f1f1;\n",
       "        }    #T_423ce446_ac30_11eb_a17e_febf0079f0f1row3_col1 {\n",
       "            background-color:  #d4e4f4;\n",
       "            color:  #000000;\n",
       "        }    #T_423ce446_ac30_11eb_a17e_febf0079f0f1row3_col2 {\n",
       "            background-color:  #e3eef8;\n",
       "            color:  #000000;\n",
       "        }    #T_423ce446_ac30_11eb_a17e_febf0079f0f1row3_col3 {\n",
       "            background-color:  #7db8da;\n",
       "            color:  #000000;\n",
       "        }    #T_423ce446_ac30_11eb_a17e_febf0079f0f1row3_col4 {\n",
       "            background-color:  #4f9bcb;\n",
       "            color:  #000000;\n",
       "        }    #T_423ce446_ac30_11eb_a17e_febf0079f0f1row4_col1 {\n",
       "            background-color:  #f7fbff;\n",
       "            color:  #000000;\n",
       "        }    #T_423ce446_ac30_11eb_a17e_febf0079f0f1row4_col2 {\n",
       "            background-color:  #f7fbff;\n",
       "            color:  #000000;\n",
       "        }    #T_423ce446_ac30_11eb_a17e_febf0079f0f1row4_col3 {\n",
       "            background-color:  #3d8dc4;\n",
       "            color:  #000000;\n",
       "        }    #T_423ce446_ac30_11eb_a17e_febf0079f0f1row4_col4 {\n",
       "            background-color:  #1966ad;\n",
       "            color:  #f1f1f1;\n",
       "        }</style><table id=\"T_423ce446_ac30_11eb_a17e_febf0079f0f1\" ><thead>    <tr>        <th class=\"blank level0\" ></th>        <th class=\"col_heading level0 col0\" >Models</th>        <th class=\"col_heading level0 col1\" >f1_score</th>        <th class=\"col_heading level0 col2\" >recall</th>        <th class=\"col_heading level0 col3\" >Accuracy on train set</th>        <th class=\"col_heading level0 col4\" >Accuracy on test set</th>    </tr></thead><tbody>\n",
       "                <tr>\n",
       "                        <th id=\"T_423ce446_ac30_11eb_a17e_febf0079f0f1level0_row0\" class=\"row_heading level0 row0\" >4</th>\n",
       "                        <td id=\"T_423ce446_ac30_11eb_a17e_febf0079f0f1row0_col0\" class=\"data row0 col0\" >Naive_Bayes</td>\n",
       "                        <td id=\"T_423ce446_ac30_11eb_a17e_febf0079f0f1row0_col1\" class=\"data row0 col1\" >0.373745</td>\n",
       "                        <td id=\"T_423ce446_ac30_11eb_a17e_febf0079f0f1row0_col2\" class=\"data row0 col2\" >0.392296</td>\n",
       "                        <td id=\"T_423ce446_ac30_11eb_a17e_febf0079f0f1row0_col3\" class=\"data row0 col3\" >0.550943</td>\n",
       "                        <td id=\"T_423ce446_ac30_11eb_a17e_febf0079f0f1row0_col4\" class=\"data row0 col4\" >0.554340</td>\n",
       "            </tr>\n",
       "            <tr>\n",
       "                        <th id=\"T_423ce446_ac30_11eb_a17e_febf0079f0f1level0_row1\" class=\"row_heading level0 row1\" >0</th>\n",
       "                        <td id=\"T_423ce446_ac30_11eb_a17e_febf0079f0f1row1_col0\" class=\"data row1 col0\" >Desicion Tree</td>\n",
       "                        <td id=\"T_423ce446_ac30_11eb_a17e_febf0079f0f1row1_col1\" class=\"data row1 col1\" >0.360709</td>\n",
       "                        <td id=\"T_423ce446_ac30_11eb_a17e_febf0079f0f1row1_col2\" class=\"data row1 col2\" >0.386404</td>\n",
       "                        <td id=\"T_423ce446_ac30_11eb_a17e_febf0079f0f1row1_col3\" class=\"data row1 col3\" >0.576731</td>\n",
       "                        <td id=\"T_423ce446_ac30_11eb_a17e_febf0079f0f1row1_col4\" class=\"data row1 col4\" >0.563085</td>\n",
       "            </tr>\n",
       "            <tr>\n",
       "                        <th id=\"T_423ce446_ac30_11eb_a17e_febf0079f0f1level0_row2\" class=\"row_heading level0 row2\" >1</th>\n",
       "                        <td id=\"T_423ce446_ac30_11eb_a17e_febf0079f0f1row2_col0\" class=\"data row2 col0\" >RandomForestClassifier</td>\n",
       "                        <td id=\"T_423ce446_ac30_11eb_a17e_febf0079f0f1row2_col1\" class=\"data row2 col1\" >0.351334</td>\n",
       "                        <td id=\"T_423ce446_ac30_11eb_a17e_febf0079f0f1row2_col2\" class=\"data row2 col2\" >0.384856</td>\n",
       "                        <td id=\"T_423ce446_ac30_11eb_a17e_febf0079f0f1row2_col3\" class=\"data row2 col3\" >0.577840</td>\n",
       "                        <td id=\"T_423ce446_ac30_11eb_a17e_febf0079f0f1row2_col4\" class=\"data row2 col4\" >0.574058</td>\n",
       "            </tr>\n",
       "            <tr>\n",
       "                        <th id=\"T_423ce446_ac30_11eb_a17e_febf0079f0f1level0_row3\" class=\"row_heading level0 row3\" >3</th>\n",
       "                        <td id=\"T_423ce446_ac30_11eb_a17e_febf0079f0f1row3_col0\" class=\"data row3 col0\" >LinearDiscriminantAnalysis</td>\n",
       "                        <td id=\"T_423ce446_ac30_11eb_a17e_febf0079f0f1row3_col1\" class=\"data row3 col1\" >0.351712</td>\n",
       "                        <td id=\"T_423ce446_ac30_11eb_a17e_febf0079f0f1row3_col2\" class=\"data row3 col2\" >0.382029</td>\n",
       "                        <td id=\"T_423ce446_ac30_11eb_a17e_febf0079f0f1row3_col3\" class=\"data row3 col3\" >0.563170</td>\n",
       "                        <td id=\"T_423ce446_ac30_11eb_a17e_febf0079f0f1row3_col4\" class=\"data row3 col4\" >0.565837</td>\n",
       "            </tr>\n",
       "            <tr>\n",
       "                        <th id=\"T_423ce446_ac30_11eb_a17e_febf0079f0f1level0_row4\" class=\"row_heading level0 row4\" >2</th>\n",
       "                        <td id=\"T_423ce446_ac30_11eb_a17e_febf0079f0f1row4_col0\" class=\"data row4 col0\" >LogisticRegression</td>\n",
       "                        <td id=\"T_423ce446_ac30_11eb_a17e_febf0079f0f1row4_col1\" class=\"data row4 col1\" >0.346971</td>\n",
       "                        <td id=\"T_423ce446_ac30_11eb_a17e_febf0079f0f1row4_col2\" class=\"data row4 col2\" >0.380855</td>\n",
       "                        <td id=\"T_423ce446_ac30_11eb_a17e_febf0079f0f1row4_col3\" class=\"data row4 col3\" >0.568196</td>\n",
       "                        <td id=\"T_423ce446_ac30_11eb_a17e_febf0079f0f1row4_col4\" class=\"data row4 col4\" >0.569931</td>\n",
       "            </tr>\n",
       "    </tbody></table>"
      ],
      "text/plain": [
       "<pandas.io.formats.style.Styler at 0x28818ed8ac0>"
      ]
     },
     "execution_count": 63,
     "metadata": {},
     "output_type": "execute_result"
    }
   ],
   "source": [
    "# print out comparison in 'Blues' or 'Greens' or 'Greys'\n",
    "model_compare.style.background_gradient(cmap='Blues')"
   ]
  }
 ],
 "metadata": {
  "anaconda-cloud": {},
  "kernelspec": {
   "display_name": "Python 3",
   "language": "python",
   "name": "python3"
  },
  "language_info": {
   "codemirror_mode": {
    "name": "ipython",
    "version": 3
   },
   "file_extension": ".py",
   "mimetype": "text/x-python",
   "name": "python",
   "nbconvert_exporter": "python",
   "pygments_lexer": "ipython3",
   "version": "3.8.5"
  }
 },
 "nbformat": 4,
 "nbformat_minor": 4
}
